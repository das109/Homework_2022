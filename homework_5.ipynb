{
  "cells": [
    {
      "cell_type": "markdown",
      "id": "18bf9fcd",
      "metadata": {
        "id": "18bf9fcd"
      },
      "source": [
        "# 이름: 정다솔\n",
        "# 학번: 2017310367\n",
        "# 학과: 문헌정보학과"
      ]
    },
    {
      "cell_type": "markdown",
      "id": "0f9fe1c2",
      "metadata": {
        "id": "0f9fe1c2"
      },
      "source": [
        "## Q1. 파이썬 내장 함수만 이용하여 평균을 구하는 함수를 작성하세요."
      ]
    },
    {
      "cell_type": "code",
      "execution_count": 1,
      "id": "7bf3430a",
      "metadata": {
        "colab": {
          "base_uri": "https://localhost:8080/"
        },
        "id": "7bf3430a",
        "outputId": "3feac685-061b-4e1c-9806-ec80cb4acc96"
      },
      "outputs": [
        {
          "output_type": "stream",
          "name": "stdout",
          "text": [
            "3.0\n"
          ]
        }
      ],
      "source": [
        "def mean(data):\n",
        "    if isinstance(data, list):\n",
        "        m = sum(data)\n",
        "        return (m/len(data))\n",
        "        # your code here\n",
        "    else:\n",
        "        raise TypeError(\"list만 입력 가능합니다.\")\n",
        "    \n",
        "print(mean([1,2,3,4,5])) # return 3.0\n",
        "# example2 = mean(5) # raise TypeError"
      ]
    },
    {
      "cell_type": "markdown",
      "id": "2a0cfc39",
      "metadata": {
        "id": "2a0cfc39"
      },
      "source": [
        "## Q2. 파이썬 내장 함수만 이용하여 모집단의 분산을 구하는 함수를 작성하세요. (단, Q1에서 작성한 함수 사용 가능함.)"
      ]
    },
    {
      "cell_type": "code",
      "execution_count": 2,
      "id": "4b46dc49",
      "metadata": {
        "colab": {
          "base_uri": "https://localhost:8080/"
        },
        "id": "4b46dc49",
        "outputId": "25852a60-d864-4163-943b-bcd15a1f45d2"
      },
      "outputs": [
        {
          "output_type": "stream",
          "name": "stdout",
          "text": [
            "2.0\n"
          ]
        }
      ],
      "source": [
        "def variance(data):\n",
        "    if isinstance(data, list):\n",
        "        m = sum(data)\n",
        "        mean = m/len(data)\n",
        "        s = 0 \n",
        "        for i in data: \n",
        "          s = s + (i - mean)**2 \n",
        "        v = s / len(data) \n",
        "        return v\n",
        "\n",
        "        # your code here\n",
        "    else:    \n",
        "        raise TypeError(\"list만 입력 가능합니다.\")\n",
        "v = variance([1,2,3,4,5]) # return 2.0\n",
        "print(v)"
      ]
    },
    {
      "cell_type": "markdown",
      "id": "c2779a6a",
      "metadata": {
        "id": "c2779a6a"
      },
      "source": [
        "## Q3. 파이썬 내장 함수만 이용하여 <u>모집단의 표준편차</u>를 구하는 함수를 작성하세요. (단, Q1, Q2에서 작성한 함수 사용 가능함.)"
      ]
    },
    {
      "cell_type": "code",
      "execution_count": 3,
      "id": "a176023a",
      "metadata": {
        "colab": {
          "base_uri": "https://localhost:8080/"
        },
        "id": "a176023a",
        "outputId": "9cbd2578-53fb-4d8e-c1b6-2ab9996095ef"
      },
      "outputs": [
        {
          "output_type": "stream",
          "name": "stdout",
          "text": [
            "1.4142135623730951\n"
          ]
        }
      ],
      "source": [
        "def std(data):\n",
        "    if isinstance(data, list):\n",
        "        v = variance(data)\n",
        "        print(pow(v, 1/2))\n",
        "        # your code here\n",
        "    else:    \n",
        "        raise TypeError(\"list만 입력 가능합니다.\")\n",
        "std([1,2,3,4,5]) # return 1.4142135623730951"
      ]
    },
    {
      "cell_type": "markdown",
      "id": "94f54c28",
      "metadata": {
        "id": "94f54c28"
      },
      "source": [
        "## Q3. 파이썬 내장 함수만 이용하여 <u>표본의 표준편차</u>를 구하는 함수를 작성하세요. (단, Q1, Q2, Q3에서 작성한 함수 사용 가능함.) 표본의 표준편차를 구하는 방법은 아래 공식을 이용하세요."
      ]
    },
    {
      "cell_type": "markdown",
      "id": "020564e3",
      "metadata": {
        "id": "020564e3"
      },
      "source": [
        "## $s_x = \\sqrt{\\sum{(x_i - \\bar{x})^2} \\over n-1}$"
      ]
    },
    {
      "cell_type": "code",
      "execution_count": 4,
      "id": "4b7687e7",
      "metadata": {
        "colab": {
          "base_uri": "https://localhost:8080/"
        },
        "id": "4b7687e7",
        "outputId": "f582efdc-c3bf-43ec-eebc-662635cca785"
      },
      "outputs": [
        {
          "output_type": "stream",
          "name": "stdout",
          "text": [
            "1.5811388300841898\n"
          ]
        }
      ],
      "source": [
        "def sample_std(data):\n",
        "    if isinstance(data, list):\n",
        "        m = sum(data)\n",
        "        mean = m/len(data)\n",
        "        s = 0 \n",
        "        for i in data: \n",
        "          s = s + (i - mean)**2 \n",
        "        v = s/(len(data)-1) \n",
        "        return pow(v, 1/2)\n",
        "    else:    \n",
        "        raise TypeError(\"list만 입력 가능합니다.\")\n",
        "print(sample_std([1,2,3,4,5])) # return 1.5811388300841898"
      ]
    },
    {
      "cell_type": "markdown",
      "id": "3b529d36",
      "metadata": {
        "id": "3b529d36"
      },
      "source": [
        "## Q5. 파이썬 내장 함수만 이용하여 입력한 리스트의 각 요소들의 Z-Score를 구하는 함수를 작성하세요. (단, Q1, Q2, Q3, Q4에서 작성한 함수 사용 가능함. 단, 표준편차는 표본 표준편차를 사용함.)"
      ]
    },
    {
      "cell_type": "code",
      "execution_count": 5,
      "id": "7d4de3d0",
      "metadata": {
        "colab": {
          "base_uri": "https://localhost:8080/"
        },
        "id": "7d4de3d0",
        "outputId": "8a1050b2-ea79-4106-c8c0-e6a82caa6f2a"
      },
      "outputs": [
        {
          "output_type": "stream",
          "name": "stdout",
          "text": [
            "[-1.2649110640673518, -0.6324555320336759, 0.0, 0.6324555320336759, 1.2649110640673518]\n"
          ]
        }
      ],
      "source": [
        "def z_score(data):\n",
        "    if isinstance(data, list):\n",
        "        z = list()\n",
        "        std = sample_std(data)\n",
        "        for i in data:\n",
        "          tmp = (i - mean(data))/std\n",
        "          z.append(tmp)\n",
        "        return z\n",
        "\n",
        "        # your code here\n",
        "    else:    \n",
        "        raise TypeError(\"list만 입력 가능합니다.\")\n",
        "print(z_score([1,2,3,4,5])) # return [-1.2649110640673518, -0.6324555320336759, 0.0, 0.6324555320336759, 1.2649110640673518]"
      ]
    },
    {
      "cell_type": "markdown",
      "id": "0141930d",
      "metadata": {
        "id": "0141930d"
      },
      "source": [
        "## Q5. 파이썬 내장 함수만 이용하여 입력한 리스트의 신뢰도 95%의 신뢰구간을 구하는 함수를 작성하세요. (단, Q1, Q2, Q3, Q4, Q5에서 작성한 함수 사용 가능함. 단, 표준정규분포에서 신뢰도 95%의 z-score는 1.96임. 단, 표준편차는 표본 표준편차를 사용함.)"
      ]
    },
    {
      "cell_type": "code",
      "execution_count": 6,
      "id": "d48c9137",
      "metadata": {
        "colab": {
          "base_uri": "https://localhost:8080/"
        },
        "id": "d48c9137",
        "outputId": "7f6a1df0-9c73-4781-ffda-b5ca3f991ac3"
      },
      "outputs": [
        {
          "output_type": "stream",
          "name": "stdout",
          "text": [
            "1.6140707088743669\n",
            "4.385929291125633\n"
          ]
        }
      ],
      "source": [
        "def ci(data):\n",
        "    if isinstance(data, list):\n",
        "        Za2 = 0.95/2\n",
        "        sem = sample_std(data)/(pow(len(data), 1/2))\n",
        "        error = 1.96*sem\n",
        "        print(mean(data)-error)\n",
        "        print(mean(data)+error)\n",
        "        # your code here\n",
        "    else:\n",
        "        raise TypeError(\"list만 입력 가능합니다.\")\n",
        "ci([1,2,3,4,5]) # return [1.6140707088743669, 4.385929291125633]"
      ]
    },
    {
      "cell_type": "markdown",
      "id": "2bb80b79",
      "metadata": {
        "id": "2bb80b79"
      },
      "source": [
        "## Q6 ~ Q10. 가상의 나라인 \"율도국\"은 인구가 10,000명이다. 이 나라 국민들은 17개 지역(location)에 흩어져 살고 있으며 성비(gender)는 잦은 전쟁으로 남자보다 여자가 더 많다. 전쟁으로 인한 사회 불안정 탓인지 월 소득(salary) 불균형도 매우 커서 사회적 불만이 큰 상황이다. 율도국에서는 지난 4월 총선이 있었고 Red당과 Blue당이 총선에서 격돌하였다. df는 총선 결과를 나타내는 데이터 프레임이다. 다음 코드를 실행하고 다음 문제를 계속 진행하세요."
      ]
    },
    {
      "cell_type": "code",
      "execution_count": 7,
      "id": "9b3a0981",
      "metadata": {
        "colab": {
          "base_uri": "https://localhost:8080/",
          "height": 424
        },
        "id": "9b3a0981",
        "outputId": "4d28763f-25b9-4584-9605-3b16d2ec1992"
      },
      "outputs": [
        {
          "output_type": "execute_result",
          "data": {
            "text/plain": [
              "     location  age gender  salary party\n",
              "0          서울   30      M     250  Blue\n",
              "1          충북   45      F       0  Blue\n",
              "2          대전   38      F      50  Blue\n",
              "3          인천   26      F       0   Red\n",
              "4          전남   20      F     100   Red\n",
              "...       ...  ...    ...     ...   ...\n",
              "9995       경기   24      M     200   Red\n",
              "9996       울산   43      F     650  Blue\n",
              "9997       인천   27      M     150  Blue\n",
              "9998       강원   31      F     100  Blue\n",
              "9999       서울   31      M     150   Red\n",
              "\n",
              "[10000 rows x 5 columns]"
            ],
            "text/html": [
              "\n",
              "  <div id=\"df-c734bd1e-af32-41ac-9ae7-5dfb747ded51\">\n",
              "    <div class=\"colab-df-container\">\n",
              "      <div>\n",
              "<style scoped>\n",
              "    .dataframe tbody tr th:only-of-type {\n",
              "        vertical-align: middle;\n",
              "    }\n",
              "\n",
              "    .dataframe tbody tr th {\n",
              "        vertical-align: top;\n",
              "    }\n",
              "\n",
              "    .dataframe thead th {\n",
              "        text-align: right;\n",
              "    }\n",
              "</style>\n",
              "<table border=\"1\" class=\"dataframe\">\n",
              "  <thead>\n",
              "    <tr style=\"text-align: right;\">\n",
              "      <th></th>\n",
              "      <th>location</th>\n",
              "      <th>age</th>\n",
              "      <th>gender</th>\n",
              "      <th>salary</th>\n",
              "      <th>party</th>\n",
              "    </tr>\n",
              "  </thead>\n",
              "  <tbody>\n",
              "    <tr>\n",
              "      <th>0</th>\n",
              "      <td>서울</td>\n",
              "      <td>30</td>\n",
              "      <td>M</td>\n",
              "      <td>250</td>\n",
              "      <td>Blue</td>\n",
              "    </tr>\n",
              "    <tr>\n",
              "      <th>1</th>\n",
              "      <td>충북</td>\n",
              "      <td>45</td>\n",
              "      <td>F</td>\n",
              "      <td>0</td>\n",
              "      <td>Blue</td>\n",
              "    </tr>\n",
              "    <tr>\n",
              "      <th>2</th>\n",
              "      <td>대전</td>\n",
              "      <td>38</td>\n",
              "      <td>F</td>\n",
              "      <td>50</td>\n",
              "      <td>Blue</td>\n",
              "    </tr>\n",
              "    <tr>\n",
              "      <th>3</th>\n",
              "      <td>인천</td>\n",
              "      <td>26</td>\n",
              "      <td>F</td>\n",
              "      <td>0</td>\n",
              "      <td>Red</td>\n",
              "    </tr>\n",
              "    <tr>\n",
              "      <th>4</th>\n",
              "      <td>전남</td>\n",
              "      <td>20</td>\n",
              "      <td>F</td>\n",
              "      <td>100</td>\n",
              "      <td>Red</td>\n",
              "    </tr>\n",
              "    <tr>\n",
              "      <th>...</th>\n",
              "      <td>...</td>\n",
              "      <td>...</td>\n",
              "      <td>...</td>\n",
              "      <td>...</td>\n",
              "      <td>...</td>\n",
              "    </tr>\n",
              "    <tr>\n",
              "      <th>9995</th>\n",
              "      <td>경기</td>\n",
              "      <td>24</td>\n",
              "      <td>M</td>\n",
              "      <td>200</td>\n",
              "      <td>Red</td>\n",
              "    </tr>\n",
              "    <tr>\n",
              "      <th>9996</th>\n",
              "      <td>울산</td>\n",
              "      <td>43</td>\n",
              "      <td>F</td>\n",
              "      <td>650</td>\n",
              "      <td>Blue</td>\n",
              "    </tr>\n",
              "    <tr>\n",
              "      <th>9997</th>\n",
              "      <td>인천</td>\n",
              "      <td>27</td>\n",
              "      <td>M</td>\n",
              "      <td>150</td>\n",
              "      <td>Blue</td>\n",
              "    </tr>\n",
              "    <tr>\n",
              "      <th>9998</th>\n",
              "      <td>강원</td>\n",
              "      <td>31</td>\n",
              "      <td>F</td>\n",
              "      <td>100</td>\n",
              "      <td>Blue</td>\n",
              "    </tr>\n",
              "    <tr>\n",
              "      <th>9999</th>\n",
              "      <td>서울</td>\n",
              "      <td>31</td>\n",
              "      <td>M</td>\n",
              "      <td>150</td>\n",
              "      <td>Red</td>\n",
              "    </tr>\n",
              "  </tbody>\n",
              "</table>\n",
              "<p>10000 rows × 5 columns</p>\n",
              "</div>\n",
              "      <button class=\"colab-df-convert\" onclick=\"convertToInteractive('df-c734bd1e-af32-41ac-9ae7-5dfb747ded51')\"\n",
              "              title=\"Convert this dataframe to an interactive table.\"\n",
              "              style=\"display:none;\">\n",
              "        \n",
              "  <svg xmlns=\"http://www.w3.org/2000/svg\" height=\"24px\"viewBox=\"0 0 24 24\"\n",
              "       width=\"24px\">\n",
              "    <path d=\"M0 0h24v24H0V0z\" fill=\"none\"/>\n",
              "    <path d=\"M18.56 5.44l.94 2.06.94-2.06 2.06-.94-2.06-.94-.94-2.06-.94 2.06-2.06.94zm-11 1L8.5 8.5l.94-2.06 2.06-.94-2.06-.94L8.5 2.5l-.94 2.06-2.06.94zm10 10l.94 2.06.94-2.06 2.06-.94-2.06-.94-.94-2.06-.94 2.06-2.06.94z\"/><path d=\"M17.41 7.96l-1.37-1.37c-.4-.4-.92-.59-1.43-.59-.52 0-1.04.2-1.43.59L10.3 9.45l-7.72 7.72c-.78.78-.78 2.05 0 2.83L4 21.41c.39.39.9.59 1.41.59.51 0 1.02-.2 1.41-.59l7.78-7.78 2.81-2.81c.8-.78.8-2.07 0-2.86zM5.41 20L4 18.59l7.72-7.72 1.47 1.35L5.41 20z\"/>\n",
              "  </svg>\n",
              "      </button>\n",
              "      \n",
              "  <style>\n",
              "    .colab-df-container {\n",
              "      display:flex;\n",
              "      flex-wrap:wrap;\n",
              "      gap: 12px;\n",
              "    }\n",
              "\n",
              "    .colab-df-convert {\n",
              "      background-color: #E8F0FE;\n",
              "      border: none;\n",
              "      border-radius: 50%;\n",
              "      cursor: pointer;\n",
              "      display: none;\n",
              "      fill: #1967D2;\n",
              "      height: 32px;\n",
              "      padding: 0 0 0 0;\n",
              "      width: 32px;\n",
              "    }\n",
              "\n",
              "    .colab-df-convert:hover {\n",
              "      background-color: #E2EBFA;\n",
              "      box-shadow: 0px 1px 2px rgba(60, 64, 67, 0.3), 0px 1px 3px 1px rgba(60, 64, 67, 0.15);\n",
              "      fill: #174EA6;\n",
              "    }\n",
              "\n",
              "    [theme=dark] .colab-df-convert {\n",
              "      background-color: #3B4455;\n",
              "      fill: #D2E3FC;\n",
              "    }\n",
              "\n",
              "    [theme=dark] .colab-df-convert:hover {\n",
              "      background-color: #434B5C;\n",
              "      box-shadow: 0px 1px 3px 1px rgba(0, 0, 0, 0.15);\n",
              "      filter: drop-shadow(0px 1px 2px rgba(0, 0, 0, 0.3));\n",
              "      fill: #FFFFFF;\n",
              "    }\n",
              "  </style>\n",
              "\n",
              "      <script>\n",
              "        const buttonEl =\n",
              "          document.querySelector('#df-c734bd1e-af32-41ac-9ae7-5dfb747ded51 button.colab-df-convert');\n",
              "        buttonEl.style.display =\n",
              "          google.colab.kernel.accessAllowed ? 'block' : 'none';\n",
              "\n",
              "        async function convertToInteractive(key) {\n",
              "          const element = document.querySelector('#df-c734bd1e-af32-41ac-9ae7-5dfb747ded51');\n",
              "          const dataTable =\n",
              "            await google.colab.kernel.invokeFunction('convertToInteractive',\n",
              "                                                     [key], {});\n",
              "          if (!dataTable) return;\n",
              "\n",
              "          const docLinkHtml = 'Like what you see? Visit the ' +\n",
              "            '<a target=\"_blank\" href=https://colab.research.google.com/notebooks/data_table.ipynb>data table notebook</a>'\n",
              "            + ' to learn more about interactive tables.';\n",
              "          element.innerHTML = '';\n",
              "          dataTable['output_type'] = 'display_data';\n",
              "          await google.colab.output.renderOutput(dataTable, element);\n",
              "          const docLink = document.createElement('div');\n",
              "          docLink.innerHTML = docLinkHtml;\n",
              "          element.appendChild(docLink);\n",
              "        }\n",
              "      </script>\n",
              "    </div>\n",
              "  </div>\n",
              "  "
            ]
          },
          "metadata": {},
          "execution_count": 7
        }
      ],
      "source": [
        "import numpy as np\n",
        "import pandas as pd\n",
        "location = ['서울','경기','인천','강원','충남','충북','대전','전북','전남','광주','경북','대구','부산','울산','경남','제주','세종']\n",
        "gender = ['M','F','E']\n",
        "party = ['Red', 'Blue']\n",
        "df = pd.DataFrame()                                                                                                                                                                     \n",
        "N = 10000                                                                                                                                                                                \n",
        "df[\"location\"] = np.random.choice(location, size=N, p=[0.1,0.1,0.1]+[0.05]*14)                                                                                                                                     \n",
        "df[\"age\"] = [int(i) if i>=0 else int(-i) for i in np.random.normal(35, 10, N)]                                                                                                                                               \n",
        "df[\"gender\"] = np.random.choice(gender, p = [0.4, 0.59, 0.01], size=N)\n",
        "df['salary'] = np.random.permutation([(int(i)-1)*50 for i in np.exp(1.5*np.linspace(0, 2, N))])\n",
        "df['party'] = df.apply(lambda x: np.random.choice(party, p=[0.1, 0.9]) if x['location']=='대전' else np.random.choice(party), axis=1)\n",
        "df"
      ]
    },
    {
      "cell_type": "markdown",
      "id": "a2c6faf9",
      "metadata": {
        "id": "a2c6faf9"
      },
      "source": [
        "## Q6-1. (중심 극한 정리) 율도국 국민(df) 중에서 표본 크기가 50인 표본을 추출하는 것을 1,000번 반복한 후 각 표본의 'salary'의 표본평균을 측정한 결과의 리스트를 출력하는 함수를 작성하세요. "
      ]
    },
    {
      "cell_type": "code",
      "execution_count": 8,
      "id": "8c67ccec",
      "metadata": {
        "colab": {
          "base_uri": "https://localhost:8080/"
        },
        "id": "8c67ccec",
        "outputId": "199651df-27ef-418e-a6c5-dce51f53c6ab"
      },
      "outputs": [
        {
          "output_type": "stream",
          "name": "stdout",
          "text": [
            "[201.0, 252.0, 285.0, 264.0, 332.0, 247.0, 241.0, 224.0, 167.0, 235.0, 273.0, 255.0, 259.0, 320.0, 226.0, 242.0, 268.0, 286.0, 209.0, 273.0, 240.0, 205.0, 274.0, 299.0, 270.0, 255.0, 321.0, 251.0, 170.0, 209.0, 208.0, 209.0, 280.0, 252.0, 236.0, 206.0, 219.0, 279.0, 292.0, 164.0, 306.0, 215.0, 222.0, 266.0, 255.0, 177.0, 294.0, 271.0, 243.0, 276.0, 238.0, 331.0, 240.0, 220.0, 255.0, 203.0, 177.0, 303.0, 194.0, 247.0, 243.0, 248.0, 273.0, 321.0, 302.0, 243.0, 267.0, 172.0, 249.0, 257.0, 251.0, 276.0, 194.0, 148.0, 203.0, 252.0, 206.0, 299.0, 233.0, 279.0, 203.0, 270.0, 273.0, 280.0, 210.0, 342.0, 233.0, 241.0, 223.0, 317.0, 288.0, 233.0, 289.0, 246.0, 225.0, 266.0, 263.0, 239.0, 256.0, 247.0, 253.0, 198.0, 270.0, 274.0, 232.0, 162.0, 241.0, 251.0, 266.0, 166.0, 272.0, 263.0, 288.0, 316.0, 262.0, 251.0, 275.0, 233.0, 254.0, 258.0, 268.0, 187.0, 259.0, 268.0, 255.0, 251.0, 292.0, 222.0, 266.0, 229.0, 234.0, 219.0, 273.0, 293.0, 295.0, 242.0, 254.0, 219.0, 284.0, 233.0, 227.0, 248.0, 216.0, 255.0, 184.0, 245.0, 256.0, 267.0, 270.0, 333.0, 257.0, 254.0, 173.0, 249.0, 222.0, 286.0, 240.0, 253.0, 276.0, 283.0, 202.0, 195.0, 249.0, 257.0, 233.0, 250.0, 218.0, 238.0, 250.0, 237.0, 217.0, 293.0, 287.0, 287.0, 291.0, 257.0, 216.0, 216.0, 264.0, 204.0, 244.0, 248.0, 230.0, 253.0, 252.0, 254.0, 243.0, 253.0, 262.0, 252.0, 172.0, 262.0, 280.0, 222.0, 223.0, 215.0, 289.0, 259.0, 276.0, 232.0, 222.0, 306.0, 214.0, 233.0, 243.0, 287.0, 271.0, 232.0, 243.0, 257.0, 246.0, 233.0, 176.0, 238.0, 247.0, 300.0, 276.0, 208.0, 243.0, 314.0, 172.0, 304.0, 280.0, 251.0, 330.0, 318.0, 196.0, 210.0, 236.0, 200.0, 192.0, 265.0, 210.0, 291.0, 324.0, 249.0, 205.0, 315.0, 218.0, 239.0, 306.0, 265.0, 238.0, 269.0, 249.0, 186.0, 222.0, 288.0, 272.0, 173.0, 254.0, 250.0, 273.0, 230.0, 202.0, 263.0, 279.0, 226.0, 261.0, 230.0, 187.0, 219.0, 217.0, 238.0, 211.0, 280.0, 248.0, 235.0, 270.0, 226.0, 259.0, 198.0, 275.0, 170.0, 271.0, 266.0, 208.0, 188.0, 235.0, 233.0, 180.0, 224.0, 265.0, 186.0, 263.0, 254.0, 260.0, 208.0, 218.0, 338.0, 250.0, 239.0, 258.0, 198.0, 253.0, 240.0, 208.0, 349.0, 213.0, 239.0, 242.0, 344.0, 176.0, 283.0, 255.0, 244.0, 298.0, 300.0, 271.0, 180.0, 264.0, 230.0, 272.0, 203.0, 294.0, 209.0, 266.0, 301.0, 256.0, 291.0, 196.0, 204.0, 256.0, 234.0, 237.0, 242.0, 142.0, 185.0, 183.0, 288.0, 285.0, 260.0, 220.0, 247.0, 259.0, 255.0, 207.0, 236.0, 219.0, 257.0, 223.0, 216.0, 201.0, 282.0, 292.0, 225.0, 278.0, 215.0, 241.0, 217.0, 253.0, 257.0, 235.0, 263.0, 288.0, 191.0, 288.0, 198.0, 153.0, 233.0, 189.0, 260.0, 181.0, 250.0, 173.0, 264.0, 301.0, 181.0, 261.0, 191.0, 251.0, 289.0, 227.0, 234.0, 282.0, 300.0, 177.0, 282.0, 246.0, 230.0, 251.0, 239.0, 316.0, 254.0, 203.0, 298.0, 230.0, 249.0, 207.0, 250.0, 160.0, 243.0, 232.0, 277.0, 254.0, 300.0, 258.0, 247.0, 305.0, 295.0, 240.0, 282.0, 225.0, 249.0, 181.0, 245.0, 295.0, 223.0, 206.0, 232.0, 260.0, 220.0, 297.0, 290.0, 195.0, 268.0, 258.0, 217.0, 249.0, 318.0, 273.0, 213.0, 232.0, 238.0, 285.0, 228.0, 211.0, 203.0, 212.0, 226.0, 262.0, 259.0, 314.0, 244.0, 219.0, 185.0, 270.0, 216.0, 186.0, 230.0, 211.0, 200.0, 329.0, 282.0, 263.0, 208.0, 311.0, 214.0, 223.0, 226.0, 288.0, 240.0, 288.0, 171.0, 249.0, 186.0, 201.0, 216.0, 230.0, 272.0, 241.0, 247.0, 256.0, 242.0, 263.0, 265.0, 236.0, 281.0, 230.0, 204.0, 264.0, 234.0, 187.0, 263.0, 194.0, 207.0, 242.0, 251.0, 271.0, 284.0, 227.0, 240.0, 256.0, 185.0, 245.0, 236.0, 239.0, 211.0, 182.0, 190.0, 215.0, 210.0, 306.0, 224.0, 203.0, 256.0, 305.0, 257.0, 246.0, 270.0, 266.0, 270.0, 240.0, 223.0, 224.0, 201.0, 254.0, 180.0, 236.0, 244.0, 240.0, 251.0, 244.0, 206.0, 218.0, 173.0, 212.0, 185.0, 224.0, 290.0, 201.0, 322.0, 269.0, 218.0, 261.0, 211.0, 245.0, 236.0, 236.0, 243.0, 222.0, 228.0, 288.0, 256.0, 299.0, 195.0, 205.0, 248.0, 206.0, 272.0, 217.0, 299.0, 212.0, 253.0, 191.0, 299.0, 267.0, 247.0, 271.0, 163.0, 206.0, 188.0, 259.0, 227.0, 253.0, 270.0, 277.0, 287.0, 275.0, 189.0, 272.0, 221.0, 268.0, 202.0, 211.0, 226.0, 268.0, 223.0, 241.0, 275.0, 196.0, 230.0, 204.0, 262.0, 193.0, 308.0, 251.0, 247.0, 280.0, 173.0, 204.0, 219.0, 267.0, 275.0, 240.0, 255.0, 250.0, 195.0, 227.0, 264.0, 192.0, 233.0, 244.0, 303.0, 289.0, 256.0, 169.0, 324.0, 223.0, 287.0, 243.0, 243.0, 208.0, 258.0, 207.0, 260.0, 281.0, 239.0, 337.0, 211.0, 255.0, 280.0, 232.0, 245.0, 310.0, 244.0, 197.0, 289.0, 160.0, 216.0, 213.0, 265.0, 266.0, 155.0, 215.0, 207.0, 193.0, 220.0, 218.0, 221.0, 234.0, 232.0, 237.0, 279.0, 235.0, 249.0, 208.0, 295.0, 247.0, 184.0, 192.0, 237.0, 327.0, 244.0, 262.0, 299.0, 194.0, 266.0, 269.0, 201.0, 201.0, 243.0, 274.0, 253.0, 245.0, 205.0, 236.0, 189.0, 302.0, 190.0, 270.0, 267.0, 227.0, 215.0, 288.0, 234.0, 267.0, 293.0, 254.0, 272.0, 230.0, 213.0, 247.0, 249.0, 239.0, 195.0, 173.0, 244.0, 173.0, 237.0, 210.0, 276.0, 248.0, 186.0, 287.0, 257.0, 230.0, 312.0, 247.0, 264.0, 268.0, 244.0, 188.0, 189.0, 255.0, 270.0, 202.0, 241.0, 259.0, 271.0, 220.0, 279.0, 274.0, 249.0, 237.0, 250.0, 223.0, 246.0, 208.0, 205.0, 222.0, 235.0, 283.0, 218.0, 229.0, 240.0, 242.0, 299.0, 265.0, 227.0, 279.0, 199.0, 211.0, 314.0, 267.0, 257.0, 339.0, 191.0, 282.0, 194.0, 227.0, 176.0, 268.0, 205.0, 248.0, 211.0, 267.0, 239.0, 220.0, 203.0, 181.0, 337.0, 233.0, 217.0, 223.0, 217.0, 230.0, 261.0, 247.0, 222.0, 245.0, 230.0, 250.0, 253.0, 159.0, 222.0, 232.0, 210.0, 348.0, 265.0, 195.0, 336.0, 233.0, 254.0, 279.0, 204.0, 252.0, 243.0, 303.0, 267.0, 271.0, 217.0, 233.0, 197.0, 278.0, 238.0, 249.0, 239.0, 248.0, 224.0, 288.0, 261.0, 248.0, 274.0, 214.0, 221.0, 297.0, 269.0, 236.0, 249.0, 266.0, 248.0, 178.0, 263.0, 265.0, 268.0, 235.0, 280.0, 207.0, 294.0, 248.0, 231.0, 305.0, 176.0, 194.0, 283.0, 283.0, 227.0, 252.0, 280.0, 224.0, 285.0, 215.0, 286.0, 191.0, 246.0, 253.0, 247.0, 286.0, 263.0, 185.0, 216.0, 233.0, 290.0, 234.0, 240.0, 231.0, 241.0, 296.0, 294.0, 268.0, 272.0, 240.0, 242.0, 226.0, 240.0, 257.0, 260.0, 156.0, 321.0, 280.0, 253.0, 207.0, 230.0, 186.0, 241.0, 172.0, 202.0, 257.0, 193.0, 215.0, 180.0, 289.0, 155.0, 284.0, 258.0, 235.0, 258.0, 229.0, 275.0, 261.0, 208.0, 211.0, 205.0, 204.0, 231.0, 175.0, 277.0, 226.0, 281.0, 225.0, 232.0, 215.0, 226.0, 201.0, 292.0, 239.0, 277.0, 306.0, 262.0, 208.0, 240.0, 263.0, 203.0, 220.0, 279.0, 273.0, 177.0, 204.0, 267.0, 240.0, 217.0, 221.0, 235.0, 292.0, 286.0, 285.0, 192.0, 225.0, 165.0, 233.0, 258.0, 182.0, 275.0, 222.0, 194.0, 276.0, 205.0, 207.0, 336.0, 239.0, 307.0, 216.0, 290.0, 246.0, 243.0, 315.0, 190.0, 244.0, 202.0, 234.0, 230.0, 233.0, 184.0, 182.0, 294.0, 272.0, 280.0, 273.0, 251.0, 227.0, 262.0, 257.0, 278.0, 243.0, 252.0, 208.0, 230.0, 235.0, 200.0, 218.0, 226.0, 213.0, 184.0, 252.0, 184.0, 215.0, 222.0, 287.0, 289.0, 220.0, 235.0, 264.0, 250.0, 231.0, 215.0, 220.0, 257.0, 227.0, 246.0, 291.0, 242.0, 304.0, 249.0, 226.0, 221.0, 264.0, 240.0, 216.0, 235.0, 237.0, 208.0, 234.0, 226.0, 233.0, 224.0, 284.0, 263.0, 206.0, 274.0, 241.0, 199.0, 246.0, 195.0, 346.0, 274.0, 244.0, 286.0, 225.0, 325.0, 169.0, 210.0, 240.0, 194.0, 223.0, 289.0, 270.0, 220.0, 272.0, 222.0]\n"
          ]
        }
      ],
      "source": [
        "def sampling50(df):\n",
        "    sample_list = list()\n",
        "    for  i in range(0, 1000):\n",
        "      sample = df.sample(50)\n",
        "      sample_list.append(sample['salary'].mean())\n",
        "    return sample_list\n",
        "    # your code here\n",
        "sampled50 = sampling50(df)\n",
        "print(sampled50)"
      ]
    },
    {
      "cell_type": "markdown",
      "id": "ee5f2518",
      "metadata": {
        "id": "ee5f2518"
      },
      "source": [
        "## Q6-2. (중심 극한 정리) 율도국 국민(df) 중에서 표본 크기가 500인 표본을 추출하는 것을 1,000번 반복한 후 각 표본의 'salary'의 표본평균을 측정한 결과의 리스트를 출력하는 함수를 작성하세요. "
      ]
    },
    {
      "cell_type": "code",
      "execution_count": 17,
      "id": "21957003",
      "metadata": {
        "id": "21957003",
        "colab": {
          "base_uri": "https://localhost:8080/"
        },
        "outputId": "0639890e-bc63-45a5-e945-5e1b739c563b"
      },
      "outputs": [
        {
          "output_type": "stream",
          "name": "stdout",
          "text": [
            "[241.0, 271.1, 276.0, 247.7, 243.1, 258.7, 240.2, 242.4, 238.4, 242.6, 242.4, 256.1, 248.2, 250.0, 240.6, 257.1, 243.6, 241.3, 236.6, 260.1, 243.8, 254.8, 241.8, 273.2, 241.0, 242.7, 246.6, 242.9, 243.6, 247.8, 257.5, 252.1, 228.4, 238.2, 256.1, 243.8, 238.0, 244.4, 254.2, 222.4, 243.6, 234.4, 240.4, 250.8, 239.3, 221.6, 250.7, 246.1, 227.8, 262.4, 248.2, 237.2, 240.0, 234.3, 244.9, 251.8, 227.0, 246.3, 244.9, 237.6, 260.7, 248.5, 250.6, 234.6, 233.9, 244.1, 246.9, 252.5, 232.6, 243.9, 251.5, 230.8, 250.5, 247.6, 239.6, 254.9, 244.9, 228.0, 253.5, 237.2, 257.4, 244.3, 246.9, 248.3, 237.6, 225.1, 251.4, 254.2, 223.4, 232.4, 236.9, 253.6, 233.0, 251.5, 250.7, 229.6, 247.4, 235.5, 252.9, 234.0, 252.9, 232.4, 247.5, 246.1, 261.6, 232.5, 240.5, 227.8, 217.7, 246.1, 241.8, 260.2, 233.5, 237.7, 242.2, 235.1, 236.9, 242.1, 245.8, 236.2, 248.7, 239.0, 231.4, 240.1, 242.0, 249.2, 239.8, 236.4, 256.4, 240.5, 258.5, 236.4, 237.8, 254.1, 236.5, 250.9, 238.9, 258.5, 255.3, 218.3, 250.9, 253.3, 256.1, 242.4, 239.0, 228.9, 256.4, 244.1, 228.0, 259.8, 228.3, 221.2, 235.5, 259.4, 250.0, 232.2, 244.0, 233.1, 260.5, 235.0, 263.8, 230.9, 243.5, 234.0, 254.8, 252.7, 241.8, 252.7, 250.4, 234.9, 232.5, 244.0, 228.0, 238.3, 253.4, 259.9, 238.2, 246.9, 241.3, 230.2, 242.4, 224.6, 227.2, 240.4, 251.3, 233.9, 230.5, 230.1, 260.3, 240.6, 234.3, 234.0, 237.1, 224.7, 240.2, 226.2, 240.5, 225.8, 238.2, 256.3, 274.4, 248.7, 241.6, 245.5, 234.8, 256.1, 230.8, 232.3, 239.4, 246.0, 255.0, 247.3, 245.3, 235.2, 252.9, 259.8, 259.5, 244.0, 227.1, 235.9, 256.8, 248.1, 238.5, 254.5, 221.5, 255.5, 241.0, 248.2, 237.7, 213.9, 249.0, 268.7, 248.5, 244.3, 255.4, 247.8, 238.9, 230.5, 254.5, 246.6, 250.6, 238.4, 249.3, 263.0, 247.9, 238.5, 236.1, 245.8, 271.0, 248.5, 244.3, 250.8, 246.3, 247.2, 239.9, 253.0, 221.7, 248.2, 236.1, 250.3, 240.4, 243.8, 256.0, 216.9, 245.8, 261.1, 256.0, 240.0, 242.1, 242.4, 243.4, 241.2, 254.0, 235.5, 219.6, 254.8, 250.2, 248.7, 241.6, 241.7, 231.9, 247.0, 223.2, 246.1, 235.8, 235.3, 249.4, 220.9, 270.6, 226.1, 239.1, 242.5, 248.6, 254.9, 255.6, 254.6, 240.7, 224.5, 245.8, 256.5, 234.7, 237.7, 253.7, 252.5, 243.3, 229.1, 264.2, 246.0, 263.6, 236.2, 233.4, 252.1, 252.7, 240.9, 239.0, 235.1, 257.0, 249.0, 275.3, 242.9, 246.6, 232.0, 231.3, 243.1, 247.5, 251.3, 250.9, 246.8, 225.6, 246.6, 254.4, 234.6, 234.9, 250.8, 245.3, 263.2, 244.8, 223.6, 240.6, 229.5, 228.5, 257.6, 242.7, 250.4, 268.2, 240.9, 228.8, 250.3, 251.9, 238.4, 255.9, 239.9, 233.6, 239.3, 245.3, 265.1, 241.0, 246.5, 238.1, 229.0, 222.1, 254.6, 247.6, 243.3, 256.2, 236.5, 234.2, 214.2, 255.1, 278.7, 240.8, 239.0, 250.3, 256.9, 244.7, 240.9, 244.0, 257.8, 256.3, 234.6, 258.7, 251.6, 255.0, 246.0, 248.4, 259.8, 261.1, 228.6, 242.2, 228.3, 245.8, 235.9, 236.0, 263.9, 244.4, 227.3, 258.9, 246.4, 245.2, 256.6, 241.6, 221.9, 236.4, 256.0, 230.9, 264.3, 241.3, 251.8, 232.2, 241.9, 247.0, 242.0, 258.2, 249.0, 241.8, 237.7, 242.7, 235.6, 254.3, 251.5, 255.5, 259.0, 244.5, 230.5, 234.8, 246.7, 259.1, 243.1, 254.7, 242.6, 252.4, 259.1, 236.8, 278.8, 241.0, 237.9, 267.7, 238.4, 244.9, 259.2, 226.6, 244.7, 235.5, 245.4, 246.9, 233.1, 239.7, 246.8, 231.6, 242.6, 252.5, 255.3, 232.0, 235.8, 238.4, 265.3, 262.4, 251.4, 240.1, 253.9, 265.1, 236.7, 242.9, 236.4, 239.4, 231.4, 259.9, 238.0, 265.8, 239.3, 235.1, 219.6, 238.9, 241.5, 234.0, 261.9, 234.0, 234.5, 255.1, 247.6, 263.3, 239.4, 233.2, 246.4, 245.6, 240.3, 262.0, 241.5, 242.0, 235.7, 241.3, 249.2, 257.2, 256.2, 243.8, 235.6, 244.3, 257.6, 260.2, 252.6, 246.8, 247.1, 252.0, 235.5, 246.7, 233.5, 249.9, 242.4, 241.0, 249.8, 231.6, 234.1, 244.3, 260.1, 247.1, 253.7, 231.7, 259.9, 243.0, 251.7, 222.8, 230.4, 232.6, 224.5, 246.9, 262.3, 241.5, 252.0, 236.7, 255.4, 237.2, 240.5, 231.0, 239.4, 276.8, 234.9, 234.8, 240.1, 257.0, 226.5, 260.0, 248.2, 227.3, 223.6, 261.3, 270.4, 240.1, 242.7, 239.7, 249.1, 230.2, 240.5, 256.8, 255.9, 224.7, 235.7, 242.1, 236.6, 223.0, 250.8, 241.3, 234.5, 254.4, 248.8, 238.6, 273.9, 233.5, 249.0, 244.5, 238.4, 261.7, 253.9, 244.4, 241.1, 257.5, 237.0, 241.0, 230.9, 236.9, 238.2, 234.9, 258.3, 250.8, 248.6, 255.0, 237.9, 233.6, 253.5, 245.7, 241.3, 236.4, 248.1, 248.6, 254.7, 247.8, 247.5, 254.3, 241.3, 255.1, 246.8, 232.5, 217.3, 257.2, 255.1, 239.4, 250.6, 233.5, 246.9, 247.8, 243.1, 251.2, 262.6, 233.6, 254.8, 252.6, 235.3, 244.1, 249.1, 254.8, 260.3, 242.3, 251.6, 249.8, 242.5, 235.5, 230.9, 252.5, 243.8, 258.0, 261.0, 258.2, 237.2, 236.9, 233.9, 228.2, 254.4, 233.1, 223.9, 257.9, 219.1, 252.6, 239.7, 229.2, 245.6, 240.5, 256.7, 229.3, 250.5, 241.2, 222.9, 272.1, 241.3, 227.0, 238.9, 249.0, 239.6, 251.3, 241.1, 250.9, 238.8, 238.4, 230.7, 217.1, 246.4, 252.3, 261.1, 263.3, 239.3, 254.6, 238.0, 255.1, 250.1, 269.8, 232.2, 248.6, 263.3, 248.3, 244.5, 257.2, 242.6, 250.6, 246.3, 236.9, 247.5, 236.6, 249.5, 250.4, 240.3, 219.8, 250.3, 254.7, 240.0, 251.5, 217.8, 231.7, 248.1, 230.8, 256.3, 239.8, 234.9, 243.9, 253.8, 256.4, 247.3, 257.5, 257.7, 239.2, 242.6, 248.9, 243.8, 261.9, 246.4, 249.3, 234.2, 226.3, 256.7, 247.3, 265.0, 257.2, 242.8, 231.0, 233.3, 237.6, 232.4, 235.0, 243.0, 232.7, 243.7, 241.3, 247.0, 256.0, 221.3, 251.4, 241.2, 256.2, 242.7, 255.6, 256.2, 242.9, 236.9, 251.7, 236.7, 260.1, 249.0, 244.0, 249.3, 232.5, 239.6, 235.2, 238.5, 252.0, 238.7, 250.4, 249.3, 240.8, 227.2, 250.8, 249.2, 253.3, 266.7, 244.7, 226.4, 269.8, 274.1, 257.1, 240.3, 227.5, 246.5, 233.1, 258.6, 244.0, 244.2, 237.7, 234.6, 231.6, 234.0, 266.9, 251.9, 248.0, 247.9, 226.8, 240.3, 224.9, 231.1, 238.5, 244.2, 232.9, 243.5, 250.4, 233.5, 259.8, 222.3, 248.7, 227.8, 228.4, 238.9, 248.8, 241.8, 256.8, 245.9, 249.9, 249.3, 248.3, 239.5, 261.1, 258.3, 260.5, 229.2, 242.3, 241.4, 267.4, 240.5, 233.3, 238.5, 249.5, 242.1, 256.0, 245.5, 265.9, 262.1, 238.1, 246.7, 264.3, 235.4, 236.2, 244.5, 256.6, 249.8, 250.0, 260.1, 248.5, 253.9, 238.6, 220.1, 251.4, 245.7, 232.0, 235.9, 224.4, 235.2, 246.5, 241.9, 274.3, 238.4, 238.3, 269.4, 244.8, 224.0, 250.4, 250.9, 233.8, 257.4, 262.6, 235.3, 234.6, 260.9, 237.2, 250.3, 244.6, 253.0, 237.9, 254.8, 252.1, 237.9, 231.0, 239.3, 233.4, 211.9, 240.3, 239.7, 248.4, 251.6, 255.6, 245.6, 245.7, 223.2, 242.9, 251.2, 246.3, 253.8, 256.1, 246.2, 241.6, 243.6, 257.0, 254.2, 246.1, 229.5, 230.5, 229.4, 235.2, 235.6, 233.0, 241.6, 240.2, 245.4, 242.4, 246.6, 228.4, 242.5, 263.6, 250.2, 227.6, 241.4, 248.7, 252.4, 232.9, 250.0, 243.3, 255.8, 242.5, 270.7, 256.7, 243.6, 247.7, 247.5, 254.4, 253.1, 237.3, 238.0, 248.4, 256.2, 233.9, 227.2, 242.1, 252.3, 248.9, 239.0, 223.8, 227.2, 243.3, 269.4, 246.7, 244.1, 239.1, 235.1, 216.9, 239.3, 228.8, 241.6, 260.1, 236.2, 237.9, 266.2, 265.2, 250.1, 250.2, 256.9, 233.6, 267.3, 243.1, 242.7, 232.1, 255.3, 252.0, 256.6, 222.1, 222.4, 235.5, 252.4, 238.0, 251.6, 238.4, 242.1, 236.4, 254.9, 239.9, 250.8, 247.6, 241.2, 243.9, 259.2, 264.7, 277.0, 252.3, 250.2, 211.5, 252.6, 252.0, 254.0, 231.4, 260.4, 247.8, 231.8, 223.6, 233.0, 241.1, 262.1, 275.9, 247.3, 247.5, 241.7, 222.6, 231.5, 242.0, 227.6, 237.0, 270.7, 259.0, 246.7]\n"
          ]
        }
      ],
      "source": [
        "def sampling500(df):\n",
        "    sample_list = list()\n",
        "    for  i in range(0, 1000):\n",
        "      sample = df.sample(500)\n",
        "      sample_list.append(sample['salary'].mean())\n",
        "    return sample_list\n",
        "    # your code here\n",
        "sampled500 = sampling500(df)\n",
        "print(sampled500)"
      ]
    },
    {
      "cell_type": "markdown",
      "id": "cbb9a558",
      "metadata": {
        "id": "cbb9a558"
      },
      "source": [
        "### Q6에서 작성한 함수의 출력 결과를 인자로 넣어 아래 코드에서 실행하세요."
      ]
    },
    {
      "cell_type": "code",
      "execution_count": 10,
      "id": "aeb421fe",
      "metadata": {
        "colab": {
          "base_uri": "https://localhost:8080/",
          "height": 283
        },
        "id": "aeb421fe",
        "outputId": "bc732776-c3ea-4b08-bd88-a76d80bde3d5"
      },
      "outputs": [
        {
          "output_type": "execute_result",
          "data": {
            "text/plain": [
              "<matplotlib.lines.Line2D at 0x7f8fc3317ed0>"
            ]
          },
          "metadata": {},
          "execution_count": 10
        },
        {
          "output_type": "display_data",
          "data": {
            "text/plain": [
              "<Figure size 432x288 with 1 Axes>"
            ],
            "image/png": "[encoded data removed]"
          },
          "metadata": {
            "needs_background": "light"
          }
        }
      ],
      "source": [
        "import seaborn as sns\n",
        "import matplotlib.pyplot as plt\n",
        "\n",
        "sns.histplot(sampled50, kde=True)\n",
        "plt.axvline(np.mean(sampled50))\n",
        "sns.histplot(sampled500, kde=True, color='r')\n",
        "plt.axvline(np.mean(sampled50), color = 'r')"
      ]
    },
    {
      "cell_type": "markdown",
      "id": "d0c24496",
      "metadata": {
        "id": "d0c24496"
      },
      "source": [
        "## Q7. (통계적 가설 검정) 사회과학에 관심이 많은 재민이는 율도국의 성별에 따라 월 평균 소득에 차이가 있을 것이라고 생각하고 있다. 아래 코드에 재민이가 이 연구를 수행하기 위해 세운 귀무가설과 대립가설을 입력하세요."
      ]
    },
    {
      "cell_type": "code",
      "execution_count": 11,
      "id": "12649b60",
      "metadata": {
        "id": "12649b60",
        "colab": {
          "base_uri": "https://localhost:8080/"
        },
        "outputId": "12a540d1-cca8-4411-cc90-7518bf312263"
      },
      "outputs": [
        {
          "output_type": "stream",
          "name": "stdout",
          "text": [
            "귀무가설(H0): 율도국의 성별에 따라 월 평균 소득의 차이가 없다.\n",
            "대립가설(Ha): 율도국의 성별에 따라 월 평균 소득의 차이가 있다.\n"
          ]
        }
      ],
      "source": [
        "print(\"귀무가설(H0): 율도국의 성별에 따라 월 평균 소득의 차이가 없다.\")\n",
        "print(\"대립가설(Ha): 율도국의 성별에 따라 월 평균 소득의 차이가 있다.\")"
      ]
    },
    {
      "cell_type": "markdown",
      "id": "7e4d8c43",
      "metadata": {
        "id": "7e4d8c43"
      },
      "source": [
        "## Q8. 재민이는 율도국의 평균 나이가 35세 라는 귀무가설이 맞다는 전제 하에 크기가 100인 표본을 추출하였는데, 이 때 표본평균이 50세로 나타났다. 이러한 통계치가 관측될 확률(p-value)을 구하는 코드를 작성하세요."
      ]
    },
    {
      "cell_type": "code",
      "execution_count": 23,
      "id": "6febf006",
      "metadata": {
        "id": "6febf006",
        "colab": {
          "base_uri": "https://localhost:8080/"
        },
        "outputId": "1c18edc6-f315-4904-9a3c-0f26b0571756"
      },
      "outputs": [
        {
          "output_type": "stream",
          "name": "stdout",
          "text": [
            "0.06680720126885809\n"
          ]
        }
      ],
      "source": [
        "# your code here.\n",
        "import scipy as sp\n",
        "import math\n",
        "\n",
        "\n",
        "rv = sp.stats.norm(0, 1)\n",
        "zscore = (50-35)/(pow(100, 1/2))\n",
        "z_stat = rv.cdf(zscore)\n",
        "p_value = 1 - z_stat\n",
        "print(p_value)\n"
      ]
    },
    {
      "cell_type": "markdown",
      "id": "04478c39",
      "metadata": {
        "id": "04478c39"
      },
      "source": [
        "## Q9. 재민이는 Q8에서 수행한 결과를 학회에서 발표하였다. 그러나 율도국 정부에서 인구주택총조사를 진행하여 율도국 국민들의 나이를 조사한 결과 재민이가 추출한 표본은 극단적인 값임이 확인되었다. 이 때, 재민이가 범한 오류는 \"1종 오류\"와 \"2종 오류\" 중 무엇인지 출력하세요."
      ]
    },
    {
      "cell_type": "code",
      "execution_count": 13,
      "id": "9f55f7bf",
      "metadata": {
        "id": "9f55f7bf",
        "colab": {
          "base_uri": "https://localhost:8080/"
        },
        "outputId": "65ed3d19-59f1-4a75-b9c8-ee71df35ca4e"
      },
      "outputs": [
        {
          "output_type": "stream",
          "name": "stdout",
          "text": [
            "1종 오류\n"
          ]
        }
      ],
      "source": [
        "print(\"1종 오류\")"
      ]
    },
    {
      "cell_type": "markdown",
      "id": "b2613649",
      "metadata": {
        "id": "b2613649"
      },
      "source": [
        "## Q10. 재민이는 율도국 국민들이 나이가 들수록 더 많은 소득을 얻을 것이라고 생각하고 있다. 재민이의 주장이 맞으려면 age와 salary를 단순 선형 회귀 분석하였을 때, slope가 양수여야 하며, p-value는 0.05보다 작아야 한다. 이러한 가설을 확인 할 수 있도록 선형 회귀 분석을 하고 이를 summary하는 테이블을 출력하는 코드를 작성하세요."
      ]
    },
    {
      "cell_type": "code",
      "execution_count": 14,
      "id": "e4d2b2dd",
      "metadata": {
        "colab": {
          "base_uri": "https://localhost:8080/",
          "height": 480
        },
        "id": "e4d2b2dd",
        "outputId": "d3df2120-a80b-4a07-8b43-3e8e2dd76d88"
      },
      "outputs": [
        {
          "output_type": "stream",
          "name": "stderr",
          "text": [
            "/usr/local/lib/python3.7/dist-packages/statsmodels/tools/_testing.py:19: FutureWarning: pandas.util.testing is deprecated. Use the functions in the public API at pandas.testing instead.\n",
            "  import pandas.util.testing as tm\n"
          ]
        },
        {
          "output_type": "execute_result",
          "data": {
            "text/plain": [
              "<class 'statsmodels.iolib.summary.Summary'>\n",
              "\"\"\"\n",
              "                            OLS Regression Results                            \n",
              "==============================================================================\n",
              "Dep. Variable:                 salary   R-squared:                       0.000\n",
              "Model:                            OLS   Adj. R-squared:                 -0.000\n",
              "Method:                 Least Squares   F-statistic:                    0.5709\n",
              "Date:                Wed, 11 May 2022   Prob (F-statistic):              0.450\n",
              "Time:                        02:52:01   Log-Likelihood:                -69673.\n",
              "No. Observations:               10000   AIC:                         1.394e+05\n",
              "Df Residuals:                    9998   BIC:                         1.394e+05\n",
              "Df Model:                           1                                         \n",
              "Covariance Type:            nonrobust                                         \n",
              "==============================================================================\n",
              "                 coef    std err          t      P>|t|      [0.025      0.975]\n",
              "------------------------------------------------------------------------------\n",
              "Intercept    237.7682      9.189     25.874      0.000     219.755     255.781\n",
              "age            0.1935      0.256      0.756      0.450      -0.308       0.695\n",
              "==============================================================================\n",
              "Omnibus:                     1184.949   Durbin-Watson:                   2.024\n",
              "Prob(Omnibus):                  0.000   Jarque-Bera (JB):             1660.027\n",
              "Skew:                           0.996   Prob(JB):                         0.00\n",
              "Kurtosis:                       2.881   Cond. No.                         128.\n",
              "==============================================================================\n",
              "\n",
              "Warnings:\n",
              "[1] Standard Errors assume that the covariance matrix of the errors is correctly specified.\n",
              "\"\"\""
            ],
            "text/html": [
              "<table class=\"simpletable\">\n",
              "<caption>OLS Regression Results</caption>\n",
              "<tr>\n",
              "  <th>Dep. Variable:</th>         <td>salary</td>      <th>  R-squared:         </th> <td>   0.000</td> \n",
              "</tr>\n",
              "<tr>\n",
              "  <th>Model:</th>                   <td>OLS</td>       <th>  Adj. R-squared:    </th> <td>  -0.000</td> \n",
              "</tr>\n",
              "<tr>\n",
              "  <th>Method:</th>             <td>Least Squares</td>  <th>  F-statistic:       </th> <td>  0.5709</td> \n",
              "</tr>\n",
              "<tr>\n",
              "  <th>Date:</th>             <td>Wed, 11 May 2022</td> <th>  Prob (F-statistic):</th>  <td> 0.450</td>  \n",
              "</tr>\n",
              "<tr>\n",
              "  <th>Time:</th>                 <td>02:52:01</td>     <th>  Log-Likelihood:    </th> <td> -69673.</td> \n",
              "</tr>\n",
              "<tr>\n",
              "  <th>No. Observations:</th>      <td> 10000</td>      <th>  AIC:               </th> <td>1.394e+05</td>\n",
              "</tr>\n",
              "<tr>\n",
              "  <th>Df Residuals:</th>          <td>  9998</td>      <th>  BIC:               </th> <td>1.394e+05</td>\n",
              "</tr>\n",
              "<tr>\n",
              "  <th>Df Model:</th>              <td>     1</td>      <th>                     </th>     <td> </td>    \n",
              "</tr>\n",
              "<tr>\n",
              "  <th>Covariance Type:</th>      <td>nonrobust</td>    <th>                     </th>     <td> </td>    \n",
              "</tr>\n",
              "</table>\n",
              "<table class=\"simpletable\">\n",
              "<tr>\n",
              "      <td></td>         <th>coef</th>     <th>std err</th>      <th>t</th>      <th>P>|t|</th>  <th>[0.025</th>    <th>0.975]</th>  \n",
              "</tr>\n",
              "<tr>\n",
              "  <th>Intercept</th> <td>  237.7682</td> <td>    9.189</td> <td>   25.874</td> <td> 0.000</td> <td>  219.755</td> <td>  255.781</td>\n",
              "</tr>\n",
              "<tr>\n",
              "  <th>age</th>       <td>    0.1935</td> <td>    0.256</td> <td>    0.756</td> <td> 0.450</td> <td>   -0.308</td> <td>    0.695</td>\n",
              "</tr>\n",
              "</table>\n",
              "<table class=\"simpletable\">\n",
              "<tr>\n",
              "  <th>Omnibus:</th>       <td>1184.949</td> <th>  Durbin-Watson:     </th> <td>   2.024</td>\n",
              "</tr>\n",
              "<tr>\n",
              "  <th>Prob(Omnibus):</th>  <td> 0.000</td>  <th>  Jarque-Bera (JB):  </th> <td>1660.027</td>\n",
              "</tr>\n",
              "<tr>\n",
              "  <th>Skew:</th>           <td> 0.996</td>  <th>  Prob(JB):          </th> <td>    0.00</td>\n",
              "</tr>\n",
              "<tr>\n",
              "  <th>Kurtosis:</th>       <td> 2.881</td>  <th>  Cond. No.          </th> <td>    128.</td>\n",
              "</tr>\n",
              "</table><br/><br/>Warnings:<br/>[1] Standard Errors assume that the covariance matrix of the errors is correctly specified."
            ]
          },
          "metadata": {},
          "execution_count": 14
        }
      ],
      "source": [
        "import statsmodels.api as sm\n",
        "# your code here.\n",
        "\n",
        "model = sm.OLS.from_formula(\"salary ~ age\", data=df) \n",
        "result = model.fit()\n",
        "result.summary()"
      ]
    },
    {
      "cell_type": "markdown",
      "id": "7f2325b0",
      "metadata": {
        "id": "7f2325b0"
      },
      "source": [
        "## Q11. 재민이는 대전, 서울, 대구, 광주 지역의 Red당의 지지율에 의미 있는 차이가 있다고 생각했다. 이를 확인하기 위해 재민이는 여론조사를 실시하여 크기 1,000개짜리 표본을 추출하였다. 재민이의 가설이 맞는지 ANOVA를 실시하여 확인하는 코드를 작성하세요."
      ]
    },
    {
      "cell_type": "code",
      "execution_count": 37,
      "id": "af4e4f23",
      "metadata": {
        "id": "af4e4f23",
        "colab": {
          "base_uri": "https://localhost:8080/"
        },
        "outputId": "99d1f617-3712-42ef-f417-ac5a7b9581ed"
      },
      "outputs": [
        {
          "output_type": "stream",
          "name": "stdout",
          "text": [
            "     location  age gender  salary party\n",
            "2958       대구   18      M     300   Red\n",
            "383        서울   39      F       0   Red\n",
            "3979       대구   40      M       0   Red\n",
            "3469       서울   38      M     300   Red\n",
            "5920       광주   25      M       0   Red\n",
            "...       ...  ...    ...     ...   ...\n",
            "8392       서울   37      F     500   Red\n",
            "9514       서울   50      M       0   Red\n",
            "9779       광주   32      F     750   Red\n",
            "7487       광주   25      F     850   Red\n",
            "5815       서울   32      F     700   Red\n",
            "\n",
            "[1000 rows x 5 columns]\n"
          ]
        }
      ],
      "source": [
        "# your code here.\n",
        "from statsmodels.formula.api import ols\n",
        "\n",
        "df_1 = df['party'] =='Red'\n",
        "df_2 = (df['location'] =='서울') | (df['location'] =='대구') | (df['location'] =='광주') | (df['location'] =='대전')\n",
        "df_new = df[df_1 & df_2]\n",
        "sample = df_new.sample(1000, replace=True)\n",
        "print(sample)\n"
      ]
    },
    {
      "cell_type": "code",
      "source": [
        "model = ols('party ~ C(location)', data = sample).fit()\n",
        "anova_table = sm.stats.anova_lm(model, typ = 2)\n",
        "anova_table"
      ],
      "metadata": {
        "colab": {
          "base_uri": "https://localhost:8080/",
          "height": 112
        },
        "id": "pMIkrmpTOdfS",
        "outputId": "06dd100e-1032-441e-a77c-ea2d36cf0b30"
      },
      "id": "pMIkrmpTOdfS",
      "execution_count": 38,
      "outputs": [
        {
          "output_type": "execute_result",
          "data": {
            "text/plain": [
              "                   sum_sq     df          F        PR(>F)\n",
              "C(location)  1.069889e-27    3.0  45.716517  1.106843e-27\n",
              "Residual     7.769688e-27  996.0        NaN           NaN"
            ],
            "text/html": [
              "\n",
              "  <div id=\"df-e3acc348-a40a-49cb-b6d5-db3a41cc4633\">\n",
              "    <div class=\"colab-df-container\">\n",
              "      <div>\n",
              "<style scoped>\n",
              "    .dataframe tbody tr th:only-of-type {\n",
              "        vertical-align: middle;\n",
              "    }\n",
              "\n",
              "    .dataframe tbody tr th {\n",
              "        vertical-align: top;\n",
              "    }\n",
              "\n",
              "    .dataframe thead th {\n",
              "        text-align: right;\n",
              "    }\n",
              "</style>\n",
              "<table border=\"1\" class=\"dataframe\">\n",
              "  <thead>\n",
              "    <tr style=\"text-align: right;\">\n",
              "      <th></th>\n",
              "      <th>sum_sq</th>\n",
              "      <th>df</th>\n",
              "      <th>F</th>\n",
              "      <th>PR(&gt;F)</th>\n",
              "    </tr>\n",
              "  </thead>\n",
              "  <tbody>\n",
              "    <tr>\n",
              "      <th>C(location)</th>\n",
              "      <td>1.069889e-27</td>\n",
              "      <td>3.0</td>\n",
              "      <td>45.716517</td>\n",
              "      <td>1.106843e-27</td>\n",
              "    </tr>\n",
              "    <tr>\n",
              "      <th>Residual</th>\n",
              "      <td>7.769688e-27</td>\n",
              "      <td>996.0</td>\n",
              "      <td>NaN</td>\n",
              "      <td>NaN</td>\n",
              "    </tr>\n",
              "  </tbody>\n",
              "</table>\n",
              "</div>\n",
              "      <button class=\"colab-df-convert\" onclick=\"convertToInteractive('df-e3acc348-a40a-49cb-b6d5-db3a41cc4633')\"\n",
              "              title=\"Convert this dataframe to an interactive table.\"\n",
              "              style=\"display:none;\">\n",
              "        \n",
              "  <svg xmlns=\"http://www.w3.org/2000/svg\" height=\"24px\"viewBox=\"0 0 24 24\"\n",
              "       width=\"24px\">\n",
              "    <path d=\"M0 0h24v24H0V0z\" fill=\"none\"/>\n",
              "    <path d=\"M18.56 5.44l.94 2.06.94-2.06 2.06-.94-2.06-.94-.94-2.06-.94 2.06-2.06.94zm-11 1L8.5 8.5l.94-2.06 2.06-.94-2.06-.94L8.5 2.5l-.94 2.06-2.06.94zm10 10l.94 2.06.94-2.06 2.06-.94-2.06-.94-.94-2.06-.94 2.06-2.06.94z\"/><path d=\"M17.41 7.96l-1.37-1.37c-.4-.4-.92-.59-1.43-.59-.52 0-1.04.2-1.43.59L10.3 9.45l-7.72 7.72c-.78.78-.78 2.05 0 2.83L4 21.41c.39.39.9.59 1.41.59.51 0 1.02-.2 1.41-.59l7.78-7.78 2.81-2.81c.8-.78.8-2.07 0-2.86zM5.41 20L4 18.59l7.72-7.72 1.47 1.35L5.41 20z\"/>\n",
              "  </svg>\n",
              "      </button>\n",
              "      \n",
              "  <style>\n",
              "    .colab-df-container {\n",
              "      display:flex;\n",
              "      flex-wrap:wrap;\n",
              "      gap: 12px;\n",
              "    }\n",
              "\n",
              "    .colab-df-convert {\n",
              "      background-color: #E8F0FE;\n",
              "      border: none;\n",
              "      border-radius: 50%;\n",
              "      cursor: pointer;\n",
              "      display: none;\n",
              "      fill: #1967D2;\n",
              "      height: 32px;\n",
              "      padding: 0 0 0 0;\n",
              "      width: 32px;\n",
              "    }\n",
              "\n",
              "    .colab-df-convert:hover {\n",
              "      background-color: #E2EBFA;\n",
              "      box-shadow: 0px 1px 2px rgba(60, 64, 67, 0.3), 0px 1px 3px 1px rgba(60, 64, 67, 0.15);\n",
              "      fill: #174EA6;\n",
              "    }\n",
              "\n",
              "    [theme=dark] .colab-df-convert {\n",
              "      background-color: #3B4455;\n",
              "      fill: #D2E3FC;\n",
              "    }\n",
              "\n",
              "    [theme=dark] .colab-df-convert:hover {\n",
              "      background-color: #434B5C;\n",
              "      box-shadow: 0px 1px 3px 1px rgba(0, 0, 0, 0.15);\n",
              "      filter: drop-shadow(0px 1px 2px rgba(0, 0, 0, 0.3));\n",
              "      fill: #FFFFFF;\n",
              "    }\n",
              "  </style>\n",
              "\n",
              "      <script>\n",
              "        const buttonEl =\n",
              "          document.querySelector('#df-e3acc348-a40a-49cb-b6d5-db3a41cc4633 button.colab-df-convert');\n",
              "        buttonEl.style.display =\n",
              "          google.colab.kernel.accessAllowed ? 'block' : 'none';\n",
              "\n",
              "        async function convertToInteractive(key) {\n",
              "          const element = document.querySelector('#df-e3acc348-a40a-49cb-b6d5-db3a41cc4633');\n",
              "          const dataTable =\n",
              "            await google.colab.kernel.invokeFunction('convertToInteractive',\n",
              "                                                     [key], {});\n",
              "          if (!dataTable) return;\n",
              "\n",
              "          const docLinkHtml = 'Like what you see? Visit the ' +\n",
              "            '<a target=\"_blank\" href=https://colab.research.google.com/notebooks/data_table.ipynb>data table notebook</a>'\n",
              "            + ' to learn more about interactive tables.';\n",
              "          element.innerHTML = '';\n",
              "          dataTable['output_type'] = 'display_data';\n",
              "          await google.colab.output.renderOutput(dataTable, element);\n",
              "          const docLink = document.createElement('div');\n",
              "          docLink.innerHTML = docLinkHtml;\n",
              "          element.appendChild(docLink);\n",
              "        }\n",
              "      </script>\n",
              "    </div>\n",
              "  </div>\n",
              "  "
            ]
          },
          "metadata": {},
          "execution_count": 38
        }
      ]
    }
  ],
  "metadata": {
    "kernelspec": {
      "display_name": "Python 3 (ipykernel)",
      "language": "python",
      "name": "python3"
    },
    "language_info": {
      "codemirror_mode": {
        "name": "ipython",
        "version": 3
      },
      "file_extension": ".py",
      "mimetype": "text/x-python",
      "name": "python",
      "nbconvert_exporter": "python",
      "pygments_lexer": "ipython3",
      "version": "3.7.11"
    },
    "colab": {
      "name": "homework#5.ipynb",
      "provenance": [],
      "collapsed_sections": []
    }
  },
  "nbformat": 4,
  "nbformat_minor": 5
}