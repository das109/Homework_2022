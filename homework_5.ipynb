{
  "cells": [
    {
      "cell_type": "markdown",
      "id": "18bf9fcd",
      "metadata": {
        "id": "18bf9fcd"
      },
      "source": [
        "# 이름: 정다솔\n",
        "# 학번: 2017310367\n",
        "# 학과: 문헌정보학과"
      ]
    },
    {
      "cell_type": "markdown",
      "id": "0f9fe1c2",
      "metadata": {
        "id": "0f9fe1c2"
      },
      "source": [
        "## Q1. 파이썬 내장 함수만 이용하여 평균을 구하는 함수를 작성하세요."
      ]
    },
    {
      "cell_type": "code",
      "execution_count": 21,
      "id": "7bf3430a",
      "metadata": {
        "colab": {
          "base_uri": "https://localhost:8080/"
        },
        "id": "7bf3430a",
        "outputId": "6246a1e6-bea7-4077-e2c3-ffef12254b2f"
      },
      "outputs": [
        {
          "output_type": "stream",
          "name": "stdout",
          "text": [
            "3.0\n"
          ]
        }
      ],
      "source": [
        "def mean(data):\n",
        "    if isinstance(data, list):\n",
        "        m = sum(data)\n",
        "        return (m/len(data))\n",
        "        # your code here\n",
        "    else:\n",
        "        raise TypeError(\"list만 입력 가능합니다.\")\n",
        "    \n",
        "print(mean([1,2,3,4,5])) # return 3.0\n",
        "# example2 = mean(5) # raise TypeError"
      ]
    },
    {
      "cell_type": "markdown",
      "id": "2a0cfc39",
      "metadata": {
        "id": "2a0cfc39"
      },
      "source": [
        "## Q2. 파이썬 내장 함수만 이용하여 모집단의 분산을 구하는 함수를 작성하세요. (단, Q1에서 작성한 함수 사용 가능함.)"
      ]
    },
    {
      "cell_type": "code",
      "execution_count": 17,
      "id": "4b46dc49",
      "metadata": {
        "colab": {
          "base_uri": "https://localhost:8080/"
        },
        "id": "4b46dc49",
        "outputId": "a57ad277-e790-4902-80f1-7c5dd4b64b0e"
      },
      "outputs": [
        {
          "output_type": "stream",
          "name": "stdout",
          "text": [
            "2.0\n"
          ]
        }
      ],
      "source": [
        "def variance(data):\n",
        "    if isinstance(data, list):\n",
        "        m = sum(data)\n",
        "        mean = m/len(data)\n",
        "        s = 0 \n",
        "        for i in data: \n",
        "          s = s + (i - mean)**2 \n",
        "        v = s / len(data) \n",
        "        return v\n",
        "\n",
        "        # your code here\n",
        "    else:    \n",
        "        raise TypeError(\"list만 입력 가능합니다.\")\n",
        "v = variance([1,2,3,4,5]) # return 2.0\n",
        "print(v)"
      ]
    },
    {
      "cell_type": "markdown",
      "id": "c2779a6a",
      "metadata": {
        "id": "c2779a6a"
      },
      "source": [
        "## Q3. 파이썬 내장 함수만 이용하여 <u>모집단의 표준편차</u>를 구하는 함수를 작성하세요. (단, Q1, Q2에서 작성한 함수 사용 가능함.)"
      ]
    },
    {
      "cell_type": "code",
      "execution_count": 14,
      "id": "a176023a",
      "metadata": {
        "colab": {
          "base_uri": "https://localhost:8080/"
        },
        "id": "a176023a",
        "outputId": "6b1f0471-d2e2-42ca-851f-c50c6e61430a"
      },
      "outputs": [
        {
          "output_type": "stream",
          "name": "stdout",
          "text": [
            "1.4142135623730951\n"
          ]
        }
      ],
      "source": [
        "def std(data):\n",
        "    if isinstance(data, list):\n",
        "        v = variance(data)\n",
        "        print(pow(v, 1/2))\n",
        "        # your code here\n",
        "    else:    \n",
        "        raise TypeError(\"list만 입력 가능합니다.\")\n",
        "std([1,2,3,4,5]) # return 1.4142135623730951"
      ]
    },
    {
      "cell_type": "markdown",
      "id": "94f54c28",
      "metadata": {
        "id": "94f54c28"
      },
      "source": [
        "## Q3. 파이썬 내장 함수만 이용하여 <u>표본의 표준편차</u>를 구하는 함수를 작성하세요. (단, Q1, Q2, Q3에서 작성한 함수 사용 가능함.) 표본의 표준편차를 구하는 방법은 아래 공식을 이용하세요."
      ]
    },
    {
      "cell_type": "markdown",
      "id": "020564e3",
      "metadata": {
        "id": "020564e3"
      },
      "source": [
        "## $s_x = \\sqrt{\\sum{(x_i - \\bar{x})^2} \\over n-1}$"
      ]
    },
    {
      "cell_type": "code",
      "execution_count": 24,
      "id": "4b7687e7",
      "metadata": {
        "colab": {
          "base_uri": "https://localhost:8080/"
        },
        "id": "4b7687e7",
        "outputId": "3da240b1-cc35-4554-c076-5188049095e0"
      },
      "outputs": [
        {
          "output_type": "stream",
          "name": "stdout",
          "text": [
            "1.5811388300841898\n"
          ]
        }
      ],
      "source": [
        "def sample_std(data):\n",
        "    if isinstance(data, list):\n",
        "        m = sum(data)\n",
        "        mean = m/len(data)\n",
        "        s = 0 \n",
        "        for i in data: \n",
        "          s = s + (i - mean)**2 \n",
        "        v = s/(len(data)-1) \n",
        "        return pow(v, 1/2)\n",
        "    else:    \n",
        "        raise TypeError(\"list만 입력 가능합니다.\")\n",
        "print(sample_std([1,2,3,4,5])) # return 1.5811388300841898"
      ]
    },
    {
      "cell_type": "markdown",
      "id": "3b529d36",
      "metadata": {
        "id": "3b529d36"
      },
      "source": [
        "## Q5. 파이썬 내장 함수만 이용하여 입력한 리스트의 각 요소들의 Z-Score를 구하는 함수를 작성하세요. (단, Q1, Q2, Q3, Q4에서 작성한 함수 사용 가능함. 단, 표준편차는 표본 표준편차를 사용함.)"
      ]
    },
    {
      "cell_type": "code",
      "execution_count": 33,
      "id": "7d4de3d0",
      "metadata": {
        "colab": {
          "base_uri": "https://localhost:8080/"
        },
        "id": "7d4de3d0",
        "outputId": "b9b94506-f4f0-418a-df33-9f5fe6eadfe1"
      },
      "outputs": [
        {
          "output_type": "stream",
          "name": "stdout",
          "text": [
            "[-1.2649110640673518, -0.6324555320336759, 0.0, 0.6324555320336759, 1.2649110640673518]\n"
          ]
        }
      ],
      "source": [
        "def z_score(data):\n",
        "    if isinstance(data, list):\n",
        "        z = list()\n",
        "        std = sample_std(data)\n",
        "        for i in data:\n",
        "          tmp = (i - mean(data))/std\n",
        "          z.append(tmp)\n",
        "        return z\n",
        "\n",
        "        # your code here\n",
        "    else:    \n",
        "        raise TypeError(\"list만 입력 가능합니다.\")\n",
        "print(z_score([1,2,3,4,5])) # return [-1.2649110640673518, -0.6324555320336759, 0.0, 0.6324555320336759, 1.2649110640673518]"
      ]
    },
    {
      "cell_type": "markdown",
      "id": "0141930d",
      "metadata": {
        "id": "0141930d"
      },
      "source": [
        "## Q5. 파이썬 내장 함수만 이용하여 입력한 리스트의 신뢰도 95%의 신뢰구간을 구하는 함수를 작성하세요. (단, Q1, Q2, Q3, Q4, Q5에서 작성한 함수 사용 가능함. 단, 표준정규분포에서 신뢰도 95%의 z-score는 1.96임. 단, 표준편차는 표본 표준편차를 사용함.)"
      ]
    },
    {
      "cell_type": "code",
      "execution_count": 36,
      "id": "d48c9137",
      "metadata": {
        "colab": {
          "base_uri": "https://localhost:8080/"
        },
        "id": "d48c9137",
        "outputId": "fef5f210-f7e4-4309-8c08-052e97e7d95c"
      },
      "outputs": [
        {
          "output_type": "stream",
          "name": "stdout",
          "text": [
            "1.6140707088743669\n",
            "4.385929291125633\n"
          ]
        }
      ],
      "source": [
        "def ci(data):\n",
        "    if isinstance(data, list):\n",
        "        Za2 = 0.95/2\n",
        "        sem = sample_std(data)/(pow(len(data), 1/2))\n",
        "        error = 1.96*sem\n",
        "        print(mean(data)-error)\n",
        "        print(mean(data)+error)\n",
        "        # your code here\n",
        "    else:\n",
        "        raise TypeError(\"list만 입력 가능합니다.\")\n",
        "ci([1,2,3,4,5]) # return [1.6140707088743669, 4.385929291125633]"
      ]
    },
    {
      "cell_type": "markdown",
      "id": "2bb80b79",
      "metadata": {
        "id": "2bb80b79"
      },
      "source": [
        "## Q6 ~ Q10. 가상의 나라인 \"율도국\"은 인구가 10,000명이다. 이 나라 국민들은 17개 지역(location)에 흩어져 살고 있으며 성비(gender)는 잦은 전쟁으로 남자보다 여자가 더 많다. 전쟁으로 인한 사회 불안정 탓인지 월 소득(salary) 불균형도 매우 커서 사회적 불만이 큰 상황이다. 율도국에서는 지난 4월 총선이 있었고 Red당과 Blue당이 총선에서 격돌하였다. df는 총선 결과를 나타내는 데이터 프레임이다. 다음 코드를 실행하고 다음 문제를 계속 진행하세요."
      ]
    },
    {
      "cell_type": "code",
      "execution_count": 37,
      "id": "9b3a0981",
      "metadata": {
        "colab": {
          "base_uri": "https://localhost:8080/",
          "height": 424
        },
        "id": "9b3a0981",
        "outputId": "71ee3b54-fec3-4fa4-8bcd-dcb284adb807"
      },
      "outputs": [
        {
          "output_type": "execute_result",
          "data": {
            "text/plain": [
              "     location  age gender  salary party\n",
              "0          경북   45      F     900   Red\n",
              "1          경기   53      M     150  Blue\n",
              "2          인천   34      F     350   Red\n",
              "3          서울   37      M       0   Red\n",
              "4          전남   37      F     150   Red\n",
              "...       ...  ...    ...     ...   ...\n",
              "9995       강원   35      M     450  Blue\n",
              "9996       경북   47      F       0  Blue\n",
              "9997       대전   28      F      50   Red\n",
              "9998       전남   36      M      50  Blue\n",
              "9999       대전   41      F     650  Blue\n",
              "\n",
              "[10000 rows x 5 columns]"
            ],
            "text/html": [
              "\n",
              "  <div id=\"df-e11cb18d-4efd-448c-9562-aaa5bc52a978\">\n",
              "    <div class=\"colab-df-container\">\n",
              "      <div>\n",
              "<style scoped>\n",
              "    .dataframe tbody tr th:only-of-type {\n",
              "        vertical-align: middle;\n",
              "    }\n",
              "\n",
              "    .dataframe tbody tr th {\n",
              "        vertical-align: top;\n",
              "    }\n",
              "\n",
              "    .dataframe thead th {\n",
              "        text-align: right;\n",
              "    }\n",
              "</style>\n",
              "<table border=\"1\" class=\"dataframe\">\n",
              "  <thead>\n",
              "    <tr style=\"text-align: right;\">\n",
              "      <th></th>\n",
              "      <th>location</th>\n",
              "      <th>age</th>\n",
              "      <th>gender</th>\n",
              "      <th>salary</th>\n",
              "      <th>party</th>\n",
              "    </tr>\n",
              "  </thead>\n",
              "  <tbody>\n",
              "    <tr>\n",
              "      <th>0</th>\n",
              "      <td>경북</td>\n",
              "      <td>45</td>\n",
              "      <td>F</td>\n",
              "      <td>900</td>\n",
              "      <td>Red</td>\n",
              "    </tr>\n",
              "    <tr>\n",
              "      <th>1</th>\n",
              "      <td>경기</td>\n",
              "      <td>53</td>\n",
              "      <td>M</td>\n",
              "      <td>150</td>\n",
              "      <td>Blue</td>\n",
              "    </tr>\n",
              "    <tr>\n",
              "      <th>2</th>\n",
              "      <td>인천</td>\n",
              "      <td>34</td>\n",
              "      <td>F</td>\n",
              "      <td>350</td>\n",
              "      <td>Red</td>\n",
              "    </tr>\n",
              "    <tr>\n",
              "      <th>3</th>\n",
              "      <td>서울</td>\n",
              "      <td>37</td>\n",
              "      <td>M</td>\n",
              "      <td>0</td>\n",
              "      <td>Red</td>\n",
              "    </tr>\n",
              "    <tr>\n",
              "      <th>4</th>\n",
              "      <td>전남</td>\n",
              "      <td>37</td>\n",
              "      <td>F</td>\n",
              "      <td>150</td>\n",
              "      <td>Red</td>\n",
              "    </tr>\n",
              "    <tr>\n",
              "      <th>...</th>\n",
              "      <td>...</td>\n",
              "      <td>...</td>\n",
              "      <td>...</td>\n",
              "      <td>...</td>\n",
              "      <td>...</td>\n",
              "    </tr>\n",
              "    <tr>\n",
              "      <th>9995</th>\n",
              "      <td>강원</td>\n",
              "      <td>35</td>\n",
              "      <td>M</td>\n",
              "      <td>450</td>\n",
              "      <td>Blue</td>\n",
              "    </tr>\n",
              "    <tr>\n",
              "      <th>9996</th>\n",
              "      <td>경북</td>\n",
              "      <td>47</td>\n",
              "      <td>F</td>\n",
              "      <td>0</td>\n",
              "      <td>Blue</td>\n",
              "    </tr>\n",
              "    <tr>\n",
              "      <th>9997</th>\n",
              "      <td>대전</td>\n",
              "      <td>28</td>\n",
              "      <td>F</td>\n",
              "      <td>50</td>\n",
              "      <td>Red</td>\n",
              "    </tr>\n",
              "    <tr>\n",
              "      <th>9998</th>\n",
              "      <td>전남</td>\n",
              "      <td>36</td>\n",
              "      <td>M</td>\n",
              "      <td>50</td>\n",
              "      <td>Blue</td>\n",
              "    </tr>\n",
              "    <tr>\n",
              "      <th>9999</th>\n",
              "      <td>대전</td>\n",
              "      <td>41</td>\n",
              "      <td>F</td>\n",
              "      <td>650</td>\n",
              "      <td>Blue</td>\n",
              "    </tr>\n",
              "  </tbody>\n",
              "</table>\n",
              "<p>10000 rows × 5 columns</p>\n",
              "</div>\n",
              "      <button class=\"colab-df-convert\" onclick=\"convertToInteractive('df-e11cb18d-4efd-448c-9562-aaa5bc52a978')\"\n",
              "              title=\"Convert this dataframe to an interactive table.\"\n",
              "              style=\"display:none;\">\n",
              "        \n",
              "  <svg xmlns=\"http://www.w3.org/2000/svg\" height=\"24px\"viewBox=\"0 0 24 24\"\n",
              "       width=\"24px\">\n",
              "    <path d=\"M0 0h24v24H0V0z\" fill=\"none\"/>\n",
              "    <path d=\"M18.56 5.44l.94 2.06.94-2.06 2.06-.94-2.06-.94-.94-2.06-.94 2.06-2.06.94zm-11 1L8.5 8.5l.94-2.06 2.06-.94-2.06-.94L8.5 2.5l-.94 2.06-2.06.94zm10 10l.94 2.06.94-2.06 2.06-.94-2.06-.94-.94-2.06-.94 2.06-2.06.94z\"/><path d=\"M17.41 7.96l-1.37-1.37c-.4-.4-.92-.59-1.43-.59-.52 0-1.04.2-1.43.59L10.3 9.45l-7.72 7.72c-.78.78-.78 2.05 0 2.83L4 21.41c.39.39.9.59 1.41.59.51 0 1.02-.2 1.41-.59l7.78-7.78 2.81-2.81c.8-.78.8-2.07 0-2.86zM5.41 20L4 18.59l7.72-7.72 1.47 1.35L5.41 20z\"/>\n",
              "  </svg>\n",
              "      </button>\n",
              "      \n",
              "  <style>\n",
              "    .colab-df-container {\n",
              "      display:flex;\n",
              "      flex-wrap:wrap;\n",
              "      gap: 12px;\n",
              "    }\n",
              "\n",
              "    .colab-df-convert {\n",
              "      background-color: #E8F0FE;\n",
              "      border: none;\n",
              "      border-radius: 50%;\n",
              "      cursor: pointer;\n",
              "      display: none;\n",
              "      fill: #1967D2;\n",
              "      height: 32px;\n",
              "      padding: 0 0 0 0;\n",
              "      width: 32px;\n",
              "    }\n",
              "\n",
              "    .colab-df-convert:hover {\n",
              "      background-color: #E2EBFA;\n",
              "      box-shadow: 0px 1px 2px rgba(60, 64, 67, 0.3), 0px 1px 3px 1px rgba(60, 64, 67, 0.15);\n",
              "      fill: #174EA6;\n",
              "    }\n",
              "\n",
              "    [theme=dark] .colab-df-convert {\n",
              "      background-color: #3B4455;\n",
              "      fill: #D2E3FC;\n",
              "    }\n",
              "\n",
              "    [theme=dark] .colab-df-convert:hover {\n",
              "      background-color: #434B5C;\n",
              "      box-shadow: 0px 1px 3px 1px rgba(0, 0, 0, 0.15);\n",
              "      filter: drop-shadow(0px 1px 2px rgba(0, 0, 0, 0.3));\n",
              "      fill: #FFFFFF;\n",
              "    }\n",
              "  </style>\n",
              "\n",
              "      <script>\n",
              "        const buttonEl =\n",
              "          document.querySelector('#df-e11cb18d-4efd-448c-9562-aaa5bc52a978 button.colab-df-convert');\n",
              "        buttonEl.style.display =\n",
              "          google.colab.kernel.accessAllowed ? 'block' : 'none';\n",
              "\n",
              "        async function convertToInteractive(key) {\n",
              "          const element = document.querySelector('#df-e11cb18d-4efd-448c-9562-aaa5bc52a978');\n",
              "          const dataTable =\n",
              "            await google.colab.kernel.invokeFunction('convertToInteractive',\n",
              "                                                     [key], {});\n",
              "          if (!dataTable) return;\n",
              "\n",
              "          const docLinkHtml = 'Like what you see? Visit the ' +\n",
              "            '<a target=\"_blank\" href=https://colab.research.google.com/notebooks/data_table.ipynb>data table notebook</a>'\n",
              "            + ' to learn more about interactive tables.';\n",
              "          element.innerHTML = '';\n",
              "          dataTable['output_type'] = 'display_data';\n",
              "          await google.colab.output.renderOutput(dataTable, element);\n",
              "          const docLink = document.createElement('div');\n",
              "          docLink.innerHTML = docLinkHtml;\n",
              "          element.appendChild(docLink);\n",
              "        }\n",
              "      </script>\n",
              "    </div>\n",
              "  </div>\n",
              "  "
            ]
          },
          "metadata": {},
          "execution_count": 37
        }
      ],
      "source": [
        "import numpy as np\n",
        "import pandas as pd\n",
        "location = ['서울','경기','인천','강원','충남','충북','대전','전북','전남','광주','경북','대구','부산','울산','경남','제주','세종']\n",
        "gender = ['M','F','E']\n",
        "party = ['Red', 'Blue']\n",
        "df = pd.DataFrame()                                                                                                                                                                     \n",
        "N = 10000                                                                                                                                                                                \n",
        "df[\"location\"] = np.random.choice(location, size=N, p=[0.1,0.1,0.1]+[0.05]*14)                                                                                                                                     \n",
        "df[\"age\"] = [int(i) if i>=0 else int(-i) for i in np.random.normal(35, 10, N)]                                                                                                                                               \n",
        "df[\"gender\"] = np.random.choice(gender, p = [0.4, 0.59, 0.01], size=N)\n",
        "df['salary'] = np.random.permutation([(int(i)-1)*50 for i in np.exp(1.5*np.linspace(0, 2, N))])\n",
        "df['party'] = df.apply(lambda x: np.random.choice(party, p=[0.1, 0.9]) if x['location']=='대전' else np.random.choice(party), axis=1)\n",
        "df"
      ]
    },
    {
      "cell_type": "markdown",
      "id": "a2c6faf9",
      "metadata": {
        "id": "a2c6faf9"
      },
      "source": [
        "## Q6-1. (중심 극한 정리) 율도국 국민(df) 중에서 표본 크기가 50인 표본을 추출하는 것을 1,000번 반복한 후 각 표본의 'salary'의 표본평균을 측정한 결과의 리스트를 출력하는 함수를 작성하세요. "
      ]
    },
    {
      "cell_type": "code",
      "execution_count": 40,
      "id": "8c67ccec",
      "metadata": {
        "colab": {
          "base_uri": "https://localhost:8080/"
        },
        "id": "8c67ccec",
        "outputId": "ef217056-e6cf-49e4-da8a-f4fefe4530a5"
      },
      "outputs": [
        {
          "output_type": "stream",
          "name": "stdout",
          "text": [
            "[240.0, 210.0, 238.0, 310.0, 243.0, 240.0, 233.0, 228.0, 222.0, 237.0, 195.0, 224.0, 197.0, 245.0, 281.0, 258.0, 268.0, 293.0, 222.0, 220.0, 281.0, 299.0, 254.0, 182.0, 245.0, 248.0, 207.0, 206.0, 203.0, 322.0, 254.0, 199.0, 211.0, 254.0, 272.0, 226.0, 296.0, 262.0, 264.0, 258.0, 246.0, 304.0, 187.0, 227.0, 223.0, 274.0, 245.0, 237.0, 145.0, 264.0, 279.0, 278.0, 208.0, 230.0, 208.0, 249.0, 252.0, 273.0, 275.0, 293.0, 262.0, 202.0, 254.0, 246.0, 256.0, 256.0, 271.0, 213.0, 293.0, 236.0, 269.0, 252.0, 268.0, 291.0, 286.0, 273.0, 303.0, 200.0, 232.0, 302.0, 254.0, 242.0, 211.0, 191.0, 169.0, 275.0, 208.0, 235.0, 249.0, 286.0, 241.0, 258.0, 208.0, 246.0, 277.0, 275.0, 285.0, 313.0, 248.0, 233.0, 284.0, 256.0, 290.0, 174.0, 250.0, 249.0, 250.0, 178.0, 264.0, 287.0, 241.0, 260.0, 331.0, 180.0, 240.0, 245.0, 243.0, 213.0, 243.0, 191.0, 234.0, 274.0, 299.0, 181.0, 251.0, 227.0, 250.0, 166.0, 220.0, 233.0, 249.0, 315.0, 183.0, 238.0, 241.0, 278.0, 286.0, 241.0, 258.0, 220.0, 268.0, 277.0, 214.0, 259.0, 200.0, 276.0, 262.0, 231.0, 180.0, 224.0, 200.0, 316.0, 234.0, 244.0, 234.0, 282.0, 262.0, 219.0, 245.0, 313.0, 298.0, 212.0, 267.0, 285.0, 239.0, 249.0, 258.0, 223.0, 270.0, 193.0, 279.0, 230.0, 224.0, 299.0, 186.0, 219.0, 286.0, 265.0, 217.0, 271.0, 218.0, 228.0, 262.0, 213.0, 250.0, 267.0, 207.0, 297.0, 285.0, 288.0, 241.0, 229.0, 280.0, 207.0, 260.0, 226.0, 254.0, 235.0, 176.0, 248.0, 227.0, 272.0, 252.0, 271.0, 206.0, 269.0, 239.0, 230.0, 269.0, 246.0, 215.0, 244.0, 275.0, 244.0, 197.0, 222.0, 238.0, 250.0, 265.0, 239.0, 221.0, 246.0, 252.0, 239.0, 291.0, 208.0, 281.0, 204.0, 228.0, 265.0, 252.0, 224.0, 159.0, 262.0, 258.0, 293.0, 242.0, 231.0, 306.0, 282.0, 291.0, 272.0, 254.0, 261.0, 253.0, 223.0, 228.0, 260.0, 244.0, 261.0, 235.0, 249.0, 296.0, 200.0, 309.0, 294.0, 266.0, 300.0, 232.0, 264.0, 267.0, 212.0, 241.0, 339.0, 209.0, 227.0, 218.0, 195.0, 260.0, 255.0, 198.0, 250.0, 263.0, 236.0, 240.0, 253.0, 250.0, 234.0, 275.0, 287.0, 181.0, 250.0, 309.0, 239.0, 277.0, 255.0, 227.0, 250.0, 212.0, 250.0, 223.0, 212.0, 239.0, 178.0, 249.0, 209.0, 216.0, 194.0, 277.0, 249.0, 249.0, 195.0, 240.0, 195.0, 270.0, 199.0, 231.0, 269.0, 246.0, 281.0, 193.0, 353.0, 221.0, 248.0, 272.0, 204.0, 248.0, 149.0, 252.0, 240.0, 301.0, 313.0, 311.0, 264.0, 304.0, 181.0, 190.0, 248.0, 229.0, 248.0, 174.0, 232.0, 291.0, 208.0, 192.0, 223.0, 265.0, 221.0, 253.0, 244.0, 224.0, 216.0, 305.0, 191.0, 183.0, 167.0, 230.0, 247.0, 273.0, 294.0, 271.0, 284.0, 281.0, 235.0, 210.0, 257.0, 267.0, 228.0, 205.0, 316.0, 244.0, 189.0, 283.0, 254.0, 201.0, 219.0, 220.0, 210.0, 294.0, 224.0, 338.0, 251.0, 219.0, 252.0, 291.0, 187.0, 264.0, 301.0, 183.0, 188.0, 231.0, 256.0, 277.0, 270.0, 223.0, 168.0, 228.0, 169.0, 240.0, 309.0, 306.0, 198.0, 274.0, 230.0, 282.0, 254.0, 287.0, 212.0, 236.0, 225.0, 216.0, 235.0, 294.0, 302.0, 243.0, 248.0, 298.0, 277.0, 266.0, 277.0, 291.0, 256.0, 220.0, 310.0, 206.0, 230.0, 267.0, 192.0, 263.0, 234.0, 196.0, 258.0, 238.0, 311.0, 233.0, 211.0, 304.0, 234.0, 187.0, 217.0, 179.0, 292.0, 235.0, 219.0, 308.0, 278.0, 265.0, 281.0, 228.0, 187.0, 249.0, 162.0, 263.0, 167.0, 192.0, 202.0, 251.0, 181.0, 242.0, 331.0, 225.0, 317.0, 220.0, 286.0, 203.0, 251.0, 199.0, 256.0, 207.0, 204.0, 214.0, 239.0, 295.0, 216.0, 225.0, 298.0, 273.0, 274.0, 284.0, 250.0, 254.0, 274.0, 266.0, 212.0, 185.0, 229.0, 189.0, 273.0, 325.0, 241.0, 236.0, 166.0, 209.0, 258.0, 212.0, 206.0, 226.0, 278.0, 231.0, 262.0, 179.0, 209.0, 208.0, 272.0, 234.0, 320.0, 217.0, 309.0, 216.0, 214.0, 215.0, 271.0, 189.0, 246.0, 256.0, 223.0, 282.0, 245.0, 207.0, 263.0, 286.0, 275.0, 254.0, 276.0, 224.0, 266.0, 248.0, 227.0, 253.0, 310.0, 285.0, 241.0, 299.0, 186.0, 241.0, 193.0, 203.0, 243.0, 210.0, 293.0, 224.0, 167.0, 207.0, 244.0, 201.0, 232.0, 258.0, 211.0, 215.0, 262.0, 254.0, 232.0, 215.0, 244.0, 295.0, 290.0, 267.0, 208.0, 247.0, 248.0, 205.0, 267.0, 258.0, 229.0, 293.0, 309.0, 255.0, 257.0, 302.0, 275.0, 240.0, 234.0, 252.0, 285.0, 273.0, 240.0, 282.0, 328.0, 265.0, 200.0, 227.0, 165.0, 213.0, 180.0, 290.0, 229.0, 235.0, 235.0, 172.0, 265.0, 215.0, 247.0, 193.0, 263.0, 283.0, 198.0, 229.0, 165.0, 246.0, 213.0, 283.0, 249.0, 271.0, 253.0, 289.0, 293.0, 220.0, 270.0, 276.0, 246.0, 253.0, 225.0, 163.0, 255.0, 224.0, 238.0, 365.0, 237.0, 302.0, 241.0, 228.0, 266.0, 278.0, 264.0, 284.0, 236.0, 248.0, 244.0, 216.0, 187.0, 164.0, 258.0, 213.0, 283.0, 276.0, 243.0, 262.0, 218.0, 222.0, 245.0, 262.0, 221.0, 257.0, 240.0, 209.0, 226.0, 265.0, 280.0, 237.0, 184.0, 260.0, 194.0, 247.0, 189.0, 280.0, 169.0, 239.0, 243.0, 238.0, 209.0, 232.0, 219.0, 211.0, 252.0, 246.0, 227.0, 281.0, 285.0, 186.0, 220.0, 184.0, 268.0, 235.0, 215.0, 232.0, 225.0, 254.0, 257.0, 184.0, 254.0, 313.0, 208.0, 214.0, 203.0, 239.0, 249.0, 284.0, 219.0, 220.0, 240.0, 217.0, 181.0, 286.0, 271.0, 243.0, 206.0, 207.0, 238.0, 324.0, 199.0, 222.0, 203.0, 210.0, 232.0, 242.0, 256.0, 259.0, 319.0, 196.0, 210.0, 229.0, 323.0, 218.0, 200.0, 277.0, 213.0, 276.0, 210.0, 258.0, 289.0, 292.0, 214.0, 268.0, 255.0, 233.0, 234.0, 227.0, 301.0, 182.0, 199.0, 294.0, 314.0, 256.0, 277.0, 239.0, 279.0, 268.0, 221.0, 349.0, 203.0, 216.0, 266.0, 184.0, 244.0, 198.0, 293.0, 250.0, 280.0, 233.0, 248.0, 253.0, 182.0, 289.0, 244.0, 222.0, 214.0, 204.0, 230.0, 251.0, 223.0, 277.0, 235.0, 294.0, 299.0, 224.0, 229.0, 293.0, 269.0, 246.0, 159.0, 200.0, 213.0, 286.0, 234.0, 195.0, 246.0, 297.0, 260.0, 169.0, 212.0, 218.0, 245.0, 302.0, 279.0, 230.0, 280.0, 223.0, 296.0, 260.0, 319.0, 244.0, 278.0, 205.0, 230.0, 194.0, 245.0, 254.0, 250.0, 212.0, 283.0, 267.0, 218.0, 203.0, 238.0, 337.0, 263.0, 312.0, 325.0, 215.0, 302.0, 225.0, 267.0, 222.0, 257.0, 189.0, 246.0, 230.0, 245.0, 220.0, 233.0, 256.0, 254.0, 216.0, 220.0, 263.0, 240.0, 226.0, 317.0, 212.0, 234.0, 221.0, 289.0, 243.0, 275.0, 223.0, 229.0, 230.0, 235.0, 247.0, 259.0, 247.0, 228.0, 168.0, 298.0, 243.0, 327.0, 275.0, 242.0, 262.0, 289.0, 269.0, 326.0, 204.0, 171.0, 202.0, 233.0, 247.0, 269.0, 264.0, 240.0, 187.0, 211.0, 215.0, 205.0, 250.0, 206.0, 253.0, 228.0, 240.0, 269.0, 194.0, 208.0, 245.0, 190.0, 282.0, 297.0, 170.0, 217.0, 248.0, 225.0, 222.0, 242.0, 246.0, 320.0, 248.0, 209.0, 323.0, 177.0, 228.0, 224.0, 210.0, 280.0, 213.0, 291.0, 219.0, 234.0, 213.0, 217.0, 253.0, 175.0, 214.0, 249.0, 230.0, 284.0, 246.0, 257.0, 293.0, 326.0, 255.0, 244.0, 206.0, 273.0, 247.0, 258.0, 237.0, 359.0, 272.0, 262.0, 181.0, 243.0, 198.0, 282.0, 325.0, 275.0, 220.0, 217.0, 163.0, 165.0, 230.0, 225.0, 331.0, 263.0, 228.0, 215.0, 217.0, 193.0, 214.0, 211.0, 193.0, 203.0, 355.0, 221.0, 228.0, 212.0, 244.0, 271.0, 220.0, 243.0, 258.0, 229.0, 293.0, 280.0, 249.0, 299.0, 234.0, 247.0, 276.0, 285.0, 191.0, 273.0, 334.0, 188.0, 254.0, 176.0, 217.0, 288.0, 189.0, 216.0, 238.0, 259.0, 230.0, 259.0, 236.0, 205.0, 201.0, 278.0, 228.0, 154.0, 211.0, 280.0, 193.0, 244.0, 269.0, 348.0, 262.0, 212.0, 273.0, 223.0, 149.0, 169.0, 203.0, 261.0, 276.0, 292.0, 286.0, 248.0, 217.0, 269.0, 230.0, 221.0, 212.0, 192.0, 216.0, 235.0, 237.0, 215.0, 220.0, 246.0, 176.0, 216.0]\n"
          ]
        }
      ],
      "source": [
        "def sampling50(df):\n",
        "    sample_list = list()\n",
        "    for  i in range(0, 1000):\n",
        "      sample = df.sample(50)\n",
        "      sample_list.append(sample['salary'].mean())\n",
        "    return sample_list\n",
        "    # your code here\n",
        "sampled50 = sampling50(df)\n",
        "print(sampled50)"
      ]
    },
    {
      "cell_type": "markdown",
      "id": "ee5f2518",
      "metadata": {
        "id": "ee5f2518"
      },
      "source": [
        "## Q6-2. (중심 극한 정리) 율도국 국민(df) 중에서 표본 크기가 500인 표본을 추출하는 것을 1,000번 반복한 후 각 표본의 'salary'의 표본평균을 측정한 결과의 리스트를 출력하는 함수를 작성하세요. "
      ]
    },
    {
      "cell_type": "code",
      "execution_count": 41,
      "id": "21957003",
      "metadata": {
        "id": "21957003"
      },
      "outputs": [],
      "source": [
        "def sampling500(df):\n",
        "    sample_list = list()\n",
        "    for  i in range(0, 1000):\n",
        "      sample = df.sample(500)\n",
        "      sample_list.append(sample['salary'].mean())\n",
        "    return sample_list\n",
        "    # your code here\n",
        "sampled500 = sampling500(df)"
      ]
    },
    {
      "cell_type": "markdown",
      "id": "cbb9a558",
      "metadata": {
        "id": "cbb9a558"
      },
      "source": [
        "### Q6에서 작성한 함수의 출력 결과를 인자로 넣어 아래 코드에서 실행하세요."
      ]
    },
    {
      "cell_type": "code",
      "execution_count": 44,
      "id": "aeb421fe",
      "metadata": {
        "colab": {
          "base_uri": "https://localhost:8080/",
          "height": 283
        },
        "id": "aeb421fe",
        "outputId": "cda0c678-80c8-40d8-df4b-95134a43c476"
      },
      "outputs": [
        {
          "output_type": "execute_result",
          "data": {
            "text/plain": [
              "<matplotlib.lines.Line2D at 0x7f4f24e0e8d0>"
            ]
          },
          "metadata": {},
          "execution_count": 44
        },
        {
          "output_type": "display_data",
          "data": {
            "text/plain": [
              "<Figure size 432x288 with 1 Axes>"
            ],
            "image/png": "[encoded data removed]"
          },
          "metadata": {
            "needs_background": "light"
          }
        }
      ],
      "source": [
        "import seaborn as sns\n",
        "import matplotlib.pyplot as plt\n",
        "\n",
        "sns.histplot(sampled50, kde=True)\n",
        "plt.axvline(np.mean(sampled50))\n",
        "sns.histplot(sampled500, kde=True, color='r')\n",
        "plt.axvline(np.mean(sampled50), color = 'r')"
      ]
    },
    {
      "cell_type": "markdown",
      "id": "d0c24496",
      "metadata": {
        "id": "d0c24496"
      },
      "source": [
        "## Q7. (통계적 가설 검정) 사회과학에 관심이 많은 재민이는 율도국의 성별에 따라 월 평균 소득에 차이가 있을 것이라고 생각하고 있다. 아래 코드에 재민이가 이 연구를 수행하기 위해 세운 귀무가설과 대립가설을 입력하세요."
      ]
    },
    {
      "cell_type": "code",
      "execution_count": null,
      "id": "12649b60",
      "metadata": {
        "id": "12649b60"
      },
      "outputs": [],
      "source": [
        "print(\"귀무가설(H0): 율도국의 성별에 따라 월 평균 소득의 차이가 없다.\")\n",
        "print(\"대립가설(Ha): 율도국의 성별에 따라 월 평균 소득의 차이가 있다.\")"
      ]
    },
    {
      "cell_type": "markdown",
      "id": "7e4d8c43",
      "metadata": {
        "id": "7e4d8c43"
      },
      "source": [
        "## Q8. 재민이는 율도국의 평균 나이가 35세 라는 귀무가설이 맞다는 전제 하에 크기가 100인 표본을 추출하였는데, 이 때 표본평균이 50세로 나타났다. 이러한 통계치가 관측될 확률(p-value)을 구하는 코드를 작성하세요."
      ]
    },
    {
      "cell_type": "code",
      "execution_count": 47,
      "id": "6febf006",
      "metadata": {
        "id": "6febf006"
      },
      "outputs": [],
      "source": [
        "# your code here.\n"
      ]
    },
    {
      "cell_type": "markdown",
      "id": "04478c39",
      "metadata": {
        "id": "04478c39"
      },
      "source": [
        "## Q9. 재민이는 Q8에서 수행한 결과를 학회에서 발표하였다. 그러나 율도국 정부에서 인구주택총조사를 진행하여 율도국 국민들의 나이를 조사한 결과 재민이가 추출한 표본은 극단적인 값임이 확인되었다. 이 때, 재민이가 범한 오류는 \"1종 오류\"와 \"2종 오류\" 중 무엇인지 출력하세요."
      ]
    },
    {
      "cell_type": "code",
      "execution_count": null,
      "id": "9f55f7bf",
      "metadata": {
        "id": "9f55f7bf"
      },
      "outputs": [],
      "source": [
        "print(\"1종 오류\")"
      ]
    },
    {
      "cell_type": "markdown",
      "id": "b2613649",
      "metadata": {
        "id": "b2613649"
      },
      "source": [
        "## Q10. 재민이는 율도국 국민들이 나이가 들수록 더 많은 소득을 얻을 것이라고 생각하고 있다. 재민이의 주장이 맞으려면 age와 salary를 단순 선형 회귀 분석하였을 때, slope가 양수여야 하며, p-value는 0.05보다 작아야 한다. 이러한 가설을 확인 할 수 있도록 선형 회귀 분석을 하고 이를 summary하는 테이블을 출력하는 코드를 작성하세요."
      ]
    },
    {
      "cell_type": "code",
      "execution_count": 51,
      "id": "e4d2b2dd",
      "metadata": {
        "colab": {
          "base_uri": "https://localhost:8080/",
          "height": 444
        },
        "id": "e4d2b2dd",
        "outputId": "01178375-ac6a-438e-b2a0-9ea0dc9d943d"
      },
      "outputs": [
        {
          "output_type": "execute_result",
          "data": {
            "text/plain": [
              "<class 'statsmodels.iolib.summary.Summary'>\n",
              "\"\"\"\n",
              "                            OLS Regression Results                            \n",
              "==============================================================================\n",
              "Dep. Variable:                 salary   R-squared:                       0.000\n",
              "Model:                            OLS   Adj. R-squared:                 -0.000\n",
              "Method:                 Least Squares   F-statistic:                  0.008400\n",
              "Date:                Mon, 09 May 2022   Prob (F-statistic):              0.927\n",
              "Time:                        17:36:23   Log-Likelihood:                -69673.\n",
              "No. Observations:               10000   AIC:                         1.394e+05\n",
              "Df Residuals:                    9998   BIC:                         1.394e+05\n",
              "Df Model:                           1                                         \n",
              "Covariance Type:            nonrobust                                         \n",
              "==============================================================================\n",
              "                 coef    std err          t      P>|t|      [0.025      0.975]\n",
              "------------------------------------------------------------------------------\n",
              "Intercept    243.6242      9.212     26.446      0.000     225.566     261.682\n",
              "age            0.0235      0.256      0.092      0.927      -0.479       0.526\n",
              "==============================================================================\n",
              "Omnibus:                     1185.056   Durbin-Watson:                   2.021\n",
              "Prob(Omnibus):                  0.000   Jarque-Bera (JB):             1660.165\n",
              "Skew:                           0.996   Prob(JB):                         0.00\n",
              "Kurtosis:                       2.880   Cond. No.                         129.\n",
              "==============================================================================\n",
              "\n",
              "Warnings:\n",
              "[1] Standard Errors assume that the covariance matrix of the errors is correctly specified.\n",
              "\"\"\""
            ],
            "text/html": [
              "<table class=\"simpletable\">\n",
              "<caption>OLS Regression Results</caption>\n",
              "<tr>\n",
              "  <th>Dep. Variable:</th>         <td>salary</td>      <th>  R-squared:         </th> <td>   0.000</td> \n",
              "</tr>\n",
              "<tr>\n",
              "  <th>Model:</th>                   <td>OLS</td>       <th>  Adj. R-squared:    </th> <td>  -0.000</td> \n",
              "</tr>\n",
              "<tr>\n",
              "  <th>Method:</th>             <td>Least Squares</td>  <th>  F-statistic:       </th> <td>0.008400</td> \n",
              "</tr>\n",
              "<tr>\n",
              "  <th>Date:</th>             <td>Mon, 09 May 2022</td> <th>  Prob (F-statistic):</th>  <td> 0.927</td>  \n",
              "</tr>\n",
              "<tr>\n",
              "  <th>Time:</th>                 <td>17:36:23</td>     <th>  Log-Likelihood:    </th> <td> -69673.</td> \n",
              "</tr>\n",
              "<tr>\n",
              "  <th>No. Observations:</th>      <td> 10000</td>      <th>  AIC:               </th> <td>1.394e+05</td>\n",
              "</tr>\n",
              "<tr>\n",
              "  <th>Df Residuals:</th>          <td>  9998</td>      <th>  BIC:               </th> <td>1.394e+05</td>\n",
              "</tr>\n",
              "<tr>\n",
              "  <th>Df Model:</th>              <td>     1</td>      <th>                     </th>     <td> </td>    \n",
              "</tr>\n",
              "<tr>\n",
              "  <th>Covariance Type:</th>      <td>nonrobust</td>    <th>                     </th>     <td> </td>    \n",
              "</tr>\n",
              "</table>\n",
              "<table class=\"simpletable\">\n",
              "<tr>\n",
              "      <td></td>         <th>coef</th>     <th>std err</th>      <th>t</th>      <th>P>|t|</th>  <th>[0.025</th>    <th>0.975]</th>  \n",
              "</tr>\n",
              "<tr>\n",
              "  <th>Intercept</th> <td>  243.6242</td> <td>    9.212</td> <td>   26.446</td> <td> 0.000</td> <td>  225.566</td> <td>  261.682</td>\n",
              "</tr>\n",
              "<tr>\n",
              "  <th>age</th>       <td>    0.0235</td> <td>    0.256</td> <td>    0.092</td> <td> 0.927</td> <td>   -0.479</td> <td>    0.526</td>\n",
              "</tr>\n",
              "</table>\n",
              "<table class=\"simpletable\">\n",
              "<tr>\n",
              "  <th>Omnibus:</th>       <td>1185.056</td> <th>  Durbin-Watson:     </th> <td>   2.021</td>\n",
              "</tr>\n",
              "<tr>\n",
              "  <th>Prob(Omnibus):</th>  <td> 0.000</td>  <th>  Jarque-Bera (JB):  </th> <td>1660.165</td>\n",
              "</tr>\n",
              "<tr>\n",
              "  <th>Skew:</th>           <td> 0.996</td>  <th>  Prob(JB):          </th> <td>    0.00</td>\n",
              "</tr>\n",
              "<tr>\n",
              "  <th>Kurtosis:</th>       <td> 2.880</td>  <th>  Cond. No.          </th> <td>    129.</td>\n",
              "</tr>\n",
              "</table><br/><br/>Warnings:<br/>[1] Standard Errors assume that the covariance matrix of the errors is correctly specified."
            ]
          },
          "metadata": {},
          "execution_count": 51
        }
      ],
      "source": [
        "import statsmodels.api as sm\n",
        "# your code here.\n",
        "\n",
        "model = sm.OLS.from_formula(\"salary ~ age\", data=df) \n",
        "result = model.fit()\n",
        "result.summary()"
      ]
    },
    {
      "cell_type": "markdown",
      "id": "7f2325b0",
      "metadata": {
        "id": "7f2325b0"
      },
      "source": [
        "## Q11. 재민이는 대전, 서울, 대구, 광주 지역의 Red당의 지지율에 의미 있는 차이가 있다고 생각했다. 이를 확인하기 위해 재민이는 여론조사를 실시하여 크기 1,000개짜리 표본을 추출하였다. 재민이의 가설이 맞는지 ANOVA를 실시하여 확인하는 코드를 작성하세요."
      ]
    },
    {
      "cell_type": "code",
      "execution_count": null,
      "id": "af4e4f23",
      "metadata": {
        "id": "af4e4f23"
      },
      "outputs": [],
      "source": [
        "# your code here.\n",
        "from statsmodels.formula.api import ols\n",
        "model = ols('party ~ C(location)', data = df).fit()\n",
        "anova_table = sm.stats.anova_lm(model, typ = 2)\n",
        "anova_table"
      ]
    }
  ],
  "metadata": {
    "kernelspec": {
      "display_name": "Python 3 (ipykernel)",
      "language": "python",
      "name": "python3"
    },
    "language_info": {
      "codemirror_mode": {
        "name": "ipython",
        "version": 3
      },
      "file_extension": ".py",
      "mimetype": "text/x-python",
      "name": "python",
      "nbconvert_exporter": "python",
      "pygments_lexer": "ipython3",
      "version": "3.7.11"
    },
    "colab": {
      "name": "homework#5.ipynb",
      "provenance": [],
      "collapsed_sections": []
    }
  },
  "nbformat": 4,
  "nbformat_minor": 5
}