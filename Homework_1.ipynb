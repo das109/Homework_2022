{
  "cells": [
    {
      "cell_type": "markdown",
      "id": "149159e1",
      "metadata": {
        "id": "149159e1"
      },
      "source": [
        "# 이름: 정다솔\n",
        "# 학번: 2017310367\n",
        "# 학과: 문헌정보학과"
      ]
    },
    {
      "cell_type": "markdown",
      "id": "fd253403",
      "metadata": {
        "id": "fd253403"
      },
      "source": [
        "### 주의사항: your {command, answer, code} here 지우고 작성할 것."
      ]
    },
    {
      "cell_type": "markdown",
      "id": "d540dda8",
      "metadata": {
        "id": "d540dda8"
      },
      "source": [
        "##### Q1. (UNIX) 디렉토리 내에 있는 파일들의 목록을 내림차순으로 출력하는 명령어를 적으세요. ( ! 기호 후 명령어 입력. Windows 명령어도 인정함. )"
      ]
    },
    {
      "cell_type": "code",
      "execution_count": null,
      "id": "0555ad2f",
      "metadata": {
        "id": "0555ad2f",
        "colab": {
          "base_uri": "https://localhost:8080/"
        },
        "outputId": "02b95bc3-458d-4e83-9c38-bf62d3a8fece"
      },
      "outputs": [
        {
          "output_type": "stream",
          "name": "stdout",
          "text": [
            "total 4\n",
            "drwxr-xr-x 1 root root 4096 Mar  9 14:48 sample_data\n"
          ]
        }
      ],
      "source": [
        "! ls -lr"
      ]
    },
    {
      "cell_type": "markdown",
      "id": "d7d387d6",
      "metadata": {
        "id": "d7d387d6"
      },
      "source": [
        "##### Q2. (UNIX) UNIX에서는 모든 것이 \\_\\_이것\\_\\_이다. 이것에 들어갈 말을 영어로 적으세요. "
      ]
    },
    {
      "cell_type": "code",
      "execution_count": null,
      "id": "98fb52fb",
      "metadata": {
        "id": "98fb52fb"
      },
      "outputs": [],
      "source": [
        "#Everything is a file"
      ]
    },
    {
      "cell_type": "markdown",
      "id": "a7b66b8a",
      "metadata": {
        "id": "a7b66b8a"
      },
      "source": [
        "##### Q3. 다음 리스트에서 짝수만 남기면서, 892 보다 큰 수는 출력되지 않는 리스트를 만드세요."
      ]
    },
    {
      "cell_type": "code",
      "execution_count": null,
      "id": "4d27e3db",
      "metadata": {
        "colab": {
          "base_uri": "https://localhost:8080/"
        },
        "id": "4d27e3db",
        "outputId": "d2f020ee-5a0e-4ee8-863b-95b690fb9c82"
      },
      "outputs": [
        {
          "output_type": "execute_result",
          "data": {
            "text/plain": [
              "[386,\n",
              " 462,\n",
              " 418,\n",
              " 344,\n",
              " 236,\n",
              " 566,\n",
              " 328,\n",
              " 162,\n",
              " 758,\n",
              " 412,\n",
              " 566,\n",
              " 826,\n",
              " 248,\n",
              " 866,\n",
              " 626,\n",
              " 104,\n",
              " 58,\n",
              " 512,\n",
              " 24,\n",
              " 742]"
            ]
          },
          "metadata": {},
          "execution_count": 22
        }
      ],
      "source": [
        "numbers = [    \n",
        "    386, 462, 47, 418, 907, 344, 236, 375, 823, 566, 597, 978, 328, 615, 953, 345, \n",
        "    399, 162, 758, 219, 918, 237, 412, 566, 826, 248, 866, 950, 626, 949, 687, 217, \n",
        "    815, 67, 104, 58, 512, 24, 892, 894, 767, 553, 81, 379, 843, 831, 445, 742, 717, \n",
        "    958,743, 527\n",
        "    ]\n",
        "\n",
        "numbers = [i for i in numbers if (i%2 == 0 and i < 892)]\n",
        "numbers"
      ]
    },
    {
      "cell_type": "markdown",
      "id": "c4efa335",
      "metadata": {
        "id": "c4efa335"
      },
      "source": [
        "##### Q4. 다음 2개의 변수 young_man, old_man의 값을 서로 바꾸는 한 줄 짜리 코드를 완성하세요."
      ]
    },
    {
      "cell_type": "code",
      "execution_count": null,
      "id": "2ede8382",
      "metadata": {
        "id": "2ede8382",
        "colab": {
          "base_uri": "https://localhost:8080/"
        },
        "outputId": "3ce49158-9cd0-4e0c-d9bf-7986116eea31"
      },
      "outputs": [
        {
          "output_type": "stream",
          "name": "stdout",
          "text": [
            "변희봉 신하균\n"
          ]
        }
      ],
      "source": [
        "young_man = \"신하균\"\n",
        "old_man = \"변희봉\"\n",
        "# your code here. 수업 시간에 다루지 않았으니 검색 필수.\n",
        "\n",
        "young_man, old_man = old_man, young_man\n",
        "\n",
        "print(young_man, old_man) # '변희봉 신하균' 출력"
      ]
    },
    {
      "cell_type": "markdown",
      "id": "780c7a67",
      "metadata": {
        "id": "780c7a67"
      },
      "source": [
        "##### Q5. 한국어의 목적격 조사 '을'과 '를'은 앞에 나오는 단어의 받침에 따라 결정된다. 예를 들어, \"나는 오늘 수업을 들었다.\"에서 \"수업\" 뒤에 붙는 목적격 조사 \"을\"은 앞 음절에 받침이 있기 때문에 \"을\"을 사용한 것이다. 만일, 앞 음절에 받침이 없었다면 \"를\"을 사용했을 것이다. 입력으로 넣은 단어의 목적격 조사로 '을'과 '를' 중 어떤 것이 적절할 지 판단하는 함수를 작성하세요."
      ]
    },
    {
      "cell_type": "code",
      "execution_count": null,
      "id": "3c0d0c9d",
      "metadata": {
        "colab": {
          "base_uri": "https://localhost:8080/"
        },
        "id": "3c0d0c9d",
        "outputId": "d4c1e643-0b10-487f-93bc-c1dd31ecad72"
      },
      "outputs": [
        {
          "output_type": "stream",
          "name": "stdout",
          "text": [
            "여수 밤바다를\n"
          ]
        }
      ],
      "source": [
        "# 참고\n",
        "# 초성 리스트. 00 ~ 18\n",
        "CHOSUNG_LIST = ['ㄱ', 'ㄲ', 'ㄴ', 'ㄷ', 'ㄸ', 'ㄹ', 'ㅁ', 'ㅂ', 'ㅃ', 'ㅅ', 'ㅆ', 'ㅇ', 'ㅈ', 'ㅉ', 'ㅊ', 'ㅋ', 'ㅌ', 'ㅍ', 'ㅎ']\n",
        "# 중성 리스트. 00 ~ 20 12623 ~ 12643\n",
        "JUNGSUNG_LIST = ['ㅏ', 'ㅐ', 'ㅑ', 'ㅒ', 'ㅓ', 'ㅔ', 'ㅕ', 'ㅖ', 'ㅗ', 'ㅘ', 'ㅙ', 'ㅚ', 'ㅛ', 'ㅜ', 'ㅝ', 'ㅞ', 'ㅟ', 'ㅠ', 'ㅡ', 'ㅢ', 'ㅣ']\n",
        "# 종성 리스트. 00 ~ 27 + 1(1개 없음)\n",
        "JONGSUNG_LIST = [' ', 'ㄱ', 'ㄲ', 'ㄳ', 'ㄴ', 'ㄵ', 'ㄶ', 'ㄷ', 'ㄹ', 'ㄺ', 'ㄻ', 'ㄼ', 'ㄽ', 'ㄾ', 'ㄿ', 'ㅀ', 'ㅁ', 'ㅂ', 'ㅄ', 'ㅅ', 'ㅆ', 'ㅇ', 'ㅈ', 'ㅊ', 'ㅋ', 'ㅌ', 'ㅍ', 'ㅎ']\n",
        "\n",
        "def decide_position(word):\n",
        "    a = word[len(word)-1]\n",
        "    print(word, end=\"\")\n",
        "    if (ord(a) - 44032) % 28 == 0:\n",
        "      print(\"를\")\n",
        "    else:\n",
        "      print(\"을\")\n",
        "    # code here. hint: ord(), \n",
        "    return \n",
        "decide_position(\"여수 밤바다\") # 실행 결과 \"여수 밤바다를\"이 출력되어야 함."
      ]
    },
    {
      "cell_type": "markdown",
      "id": "794c0d3e",
      "metadata": {
        "id": "794c0d3e"
      },
      "source": [
        "##### Q6. 다음 문자열을 역순으로 출력하는 한 줄짜리 코드를 작성하세요."
      ]
    },
    {
      "cell_type": "code",
      "execution_count": null,
      "id": "82143555",
      "metadata": {
        "colab": {
          "base_uri": "https://localhost:8080/"
        },
        "id": "82143555",
        "outputId": "ff20c091-2a4b-4ce3-efcb-745659fa7fa0"
      },
      "outputs": [
        {
          "output_type": "stream",
          "name": "stdout",
          "text": [
            "말해말 꺼꾸로 꺼꾸로 꺼꾸로"
          ]
        }
      ],
      "source": [
        "sentence = \"로꾸꺼 로꾸꺼 로꾸꺼 말해말\"\n",
        "\n",
        "for i in range (len(sentence)-1, -1, -1): print(sentence[i], end=\"\")"
      ]
    },
    {
      "cell_type": "markdown",
      "id": "f7f1c98e",
      "metadata": {
        "id": "f7f1c98e"
      },
      "source": [
        "##### Q7. 주어진 dictionary가 모두 같은 값을 갖고 있는지 확인하는 함수를 작성하세요."
      ]
    },
    {
      "cell_type": "code",
      "execution_count": null,
      "id": "4caa1469",
      "metadata": {
        "colab": {
          "base_uri": "https://localhost:8080/"
        },
        "id": "4caa1469",
        "outputId": "bdc7f294-8761-4e9a-de5c-f0a6f8fe3fe6"
      },
      "outputs": [
        {
          "output_type": "stream",
          "name": "stdout",
          "text": [
            "True\n",
            "False\n"
          ]
        }
      ],
      "source": [
        "def check_homogeneity(dictionary):\n",
        "    flag = True\n",
        "    val =  list(dictionary.values())\n",
        "    val_sum = val.count(val[0])\n",
        "    if val_sum/len(val) != 1: flag = False\n",
        "    return flag\n",
        "    \n",
        "print(check_homogeneity({\"정조\":\"왕\", \"단종\":\"왕\", \"광해군\":\"왕\"})) # return True\n",
        "print(check_homogeneity({\"걸스데이\":4, \"씨스타\":4, \"블랭핑크\":4, \"소녀시대\":9})) # return False"
      ]
    },
    {
      "cell_type": "markdown",
      "id": "dd08def5",
      "metadata": {
        "id": "dd08def5"
      },
      "source": [
        "##### Q8. 다음 두 리스트 s1, s2를 Pandas의 Series로 만들고 두 Series를 더해보세요."
      ]
    },
    {
      "cell_type": "code",
      "execution_count": null,
      "id": "aefc2d5a",
      "metadata": {
        "colab": {
          "base_uri": "https://localhost:8080/"
        },
        "id": "aefc2d5a",
        "outputId": "c5d34a95-f8b1-4fe7-d5b8-3b90249ebefc"
      },
      "outputs": [
        {
          "output_type": "stream",
          "name": "stdout",
          "text": [
            "0     3\n",
            "1     7\n",
            "2    11\n",
            "3    15\n",
            "4    19\n",
            "dtype: int64\n"
          ]
        }
      ],
      "source": [
        "import pandas as pd\n",
        "s1 = [2, 4, 6, 8, 10]\n",
        "s2 = [1, 3, 5, 7, 9]\n",
        "\n",
        "s1 = pd.Series(s1)\n",
        "s2 = pd.Series(s2)\n",
        "\n",
        "print(s1+s2)"
      ]
    },
    {
      "cell_type": "markdown",
      "id": "e2561558",
      "metadata": {
        "id": "e2561558"
      },
      "source": [
        "##### Q9. 다음 DataFrame 에서, name(이름)과 turnout(득표율)만 선택(selection)하는 코드를 작성하세요."
      ]
    },
    {
      "cell_type": "code",
      "execution_count": 2,
      "id": "d7d4d64f",
      "metadata": {
        "scrolled": true,
        "colab": {
          "base_uri": "https://localhost:8080/",
          "height": 426
        },
        "id": "d7d4d64f",
        "outputId": "481887fb-cd8e-40d3-cc21-354a09a70d51"
      },
      "outputs": [
        {
          "output_type": "execute_result",
          "data": {
            "text/plain": [
              "  name  turnout\n",
              "가  이승만     91.8\n",
              "나  윤보선     79.1\n",
              "다  박정희     46.6\n",
              "라  최규하     96.3\n",
              "마  전두환     99.4\n",
              "바  노태우     36.6\n",
              "사  김영삼     42.0\n",
              "아  김대중     40.3\n",
              "자  노무현     48.9\n",
              "차  이명박     48.7\n",
              "카  박근혜     51.6\n",
              "타  문재인     41.1"
            ],
            "text/html": [
              "\n",
              "  <div id=\"df-a0f61b9c-0b03-4395-8a31-39f151e6835f\">\n",
              "    <div class=\"colab-df-container\">\n",
              "      <div>\n",
              "<style scoped>\n",
              "    .dataframe tbody tr th:only-of-type {\n",
              "        vertical-align: middle;\n",
              "    }\n",
              "\n",
              "    .dataframe tbody tr th {\n",
              "        vertical-align: top;\n",
              "    }\n",
              "\n",
              "    .dataframe thead th {\n",
              "        text-align: right;\n",
              "    }\n",
              "</style>\n",
              "<table border=\"1\" class=\"dataframe\">\n",
              "  <thead>\n",
              "    <tr style=\"text-align: right;\">\n",
              "      <th></th>\n",
              "      <th>name</th>\n",
              "      <th>turnout</th>\n",
              "    </tr>\n",
              "  </thead>\n",
              "  <tbody>\n",
              "    <tr>\n",
              "      <th>가</th>\n",
              "      <td>이승만</td>\n",
              "      <td>91.8</td>\n",
              "    </tr>\n",
              "    <tr>\n",
              "      <th>나</th>\n",
              "      <td>윤보선</td>\n",
              "      <td>79.1</td>\n",
              "    </tr>\n",
              "    <tr>\n",
              "      <th>다</th>\n",
              "      <td>박정희</td>\n",
              "      <td>46.6</td>\n",
              "    </tr>\n",
              "    <tr>\n",
              "      <th>라</th>\n",
              "      <td>최규하</td>\n",
              "      <td>96.3</td>\n",
              "    </tr>\n",
              "    <tr>\n",
              "      <th>마</th>\n",
              "      <td>전두환</td>\n",
              "      <td>99.4</td>\n",
              "    </tr>\n",
              "    <tr>\n",
              "      <th>바</th>\n",
              "      <td>노태우</td>\n",
              "      <td>36.6</td>\n",
              "    </tr>\n",
              "    <tr>\n",
              "      <th>사</th>\n",
              "      <td>김영삼</td>\n",
              "      <td>42.0</td>\n",
              "    </tr>\n",
              "    <tr>\n",
              "      <th>아</th>\n",
              "      <td>김대중</td>\n",
              "      <td>40.3</td>\n",
              "    </tr>\n",
              "    <tr>\n",
              "      <th>자</th>\n",
              "      <td>노무현</td>\n",
              "      <td>48.9</td>\n",
              "    </tr>\n",
              "    <tr>\n",
              "      <th>차</th>\n",
              "      <td>이명박</td>\n",
              "      <td>48.7</td>\n",
              "    </tr>\n",
              "    <tr>\n",
              "      <th>카</th>\n",
              "      <td>박근혜</td>\n",
              "      <td>51.6</td>\n",
              "    </tr>\n",
              "    <tr>\n",
              "      <th>타</th>\n",
              "      <td>문재인</td>\n",
              "      <td>41.1</td>\n",
              "    </tr>\n",
              "  </tbody>\n",
              "</table>\n",
              "</div>\n",
              "      <button class=\"colab-df-convert\" onclick=\"convertToInteractive('df-a0f61b9c-0b03-4395-8a31-39f151e6835f')\"\n",
              "              title=\"Convert this dataframe to an interactive table.\"\n",
              "              style=\"display:none;\">\n",
              "        \n",
              "  <svg xmlns=\"http://www.w3.org/2000/svg\" height=\"24px\"viewBox=\"0 0 24 24\"\n",
              "       width=\"24px\">\n",
              "    <path d=\"M0 0h24v24H0V0z\" fill=\"none\"/>\n",
              "    <path d=\"M18.56 5.44l.94 2.06.94-2.06 2.06-.94-2.06-.94-.94-2.06-.94 2.06-2.06.94zm-11 1L8.5 8.5l.94-2.06 2.06-.94-2.06-.94L8.5 2.5l-.94 2.06-2.06.94zm10 10l.94 2.06.94-2.06 2.06-.94-2.06-.94-.94-2.06-.94 2.06-2.06.94z\"/><path d=\"M17.41 7.96l-1.37-1.37c-.4-.4-.92-.59-1.43-.59-.52 0-1.04.2-1.43.59L10.3 9.45l-7.72 7.72c-.78.78-.78 2.05 0 2.83L4 21.41c.39.39.9.59 1.41.59.51 0 1.02-.2 1.41-.59l7.78-7.78 2.81-2.81c.8-.78.8-2.07 0-2.86zM5.41 20L4 18.59l7.72-7.72 1.47 1.35L5.41 20z\"/>\n",
              "  </svg>\n",
              "      </button>\n",
              "      \n",
              "  <style>\n",
              "    .colab-df-container {\n",
              "      display:flex;\n",
              "      flex-wrap:wrap;\n",
              "      gap: 12px;\n",
              "    }\n",
              "\n",
              "    .colab-df-convert {\n",
              "      background-color: #E8F0FE;\n",
              "      border: none;\n",
              "      border-radius: 50%;\n",
              "      cursor: pointer;\n",
              "      display: none;\n",
              "      fill: #1967D2;\n",
              "      height: 32px;\n",
              "      padding: 0 0 0 0;\n",
              "      width: 32px;\n",
              "    }\n",
              "\n",
              "    .colab-df-convert:hover {\n",
              "      background-color: #E2EBFA;\n",
              "      box-shadow: 0px 1px 2px rgba(60, 64, 67, 0.3), 0px 1px 3px 1px rgba(60, 64, 67, 0.15);\n",
              "      fill: #174EA6;\n",
              "    }\n",
              "\n",
              "    [theme=dark] .colab-df-convert {\n",
              "      background-color: #3B4455;\n",
              "      fill: #D2E3FC;\n",
              "    }\n",
              "\n",
              "    [theme=dark] .colab-df-convert:hover {\n",
              "      background-color: #434B5C;\n",
              "      box-shadow: 0px 1px 3px 1px rgba(0, 0, 0, 0.15);\n",
              "      filter: drop-shadow(0px 1px 2px rgba(0, 0, 0, 0.3));\n",
              "      fill: #FFFFFF;\n",
              "    }\n",
              "  </style>\n",
              "\n",
              "      <script>\n",
              "        const buttonEl =\n",
              "          document.querySelector('#df-a0f61b9c-0b03-4395-8a31-39f151e6835f button.colab-df-convert');\n",
              "        buttonEl.style.display =\n",
              "          google.colab.kernel.accessAllowed ? 'block' : 'none';\n",
              "\n",
              "        async function convertToInteractive(key) {\n",
              "          const element = document.querySelector('#df-a0f61b9c-0b03-4395-8a31-39f151e6835f');\n",
              "          const dataTable =\n",
              "            await google.colab.kernel.invokeFunction('convertToInteractive',\n",
              "                                                     [key], {});\n",
              "          if (!dataTable) return;\n",
              "\n",
              "          const docLinkHtml = 'Like what you see? Visit the ' +\n",
              "            '<a target=\"_blank\" href=https://colab.research.google.com/notebooks/data_table.ipynb>data table notebook</a>'\n",
              "            + ' to learn more about interactive tables.';\n",
              "          element.innerHTML = '';\n",
              "          dataTable['output_type'] = 'display_data';\n",
              "          await google.colab.output.renderOutput(dataTable, element);\n",
              "          const docLink = document.createElement('div');\n",
              "          docLink.innerHTML = docLinkHtml;\n",
              "          element.appendChild(docLink);\n",
              "        }\n",
              "      </script>\n",
              "    </div>\n",
              "  </div>\n",
              "  "
            ]
          },
          "metadata": {},
          "execution_count": 2
        }
      ],
      "source": [
        "import pandas as pd\n",
        "import numpy as np\n",
        "president_data  = {'name': ['이승만', '윤보선', '박정희', '최규하', '전두환', '노태우',\n",
        "                       '김영삼', '김대중', '노무현', '이명박', '박근혜', '문재인'],\n",
        "        'turnout': [91.8, 79.1, 46.6, 96.3, 99.4, 36.6,\n",
        "                    42, 40.3, 48.9, 48.7, 51.6,41.1],\n",
        "        'jail': ['no', 'no', 'no', 'no', 'yes', 'yes',\n",
        "                'no', 'no', 'no','yes','yes',np.nan]}\n",
        "labels = ['가', '나', '다', '라', '마', '바', '사', '아', '자', '차','카','타']\n",
        "presidents = pd.DataFrame(president_data, index=labels )\n",
        "\n",
        "presidents = pd.DataFrame(presidents, columns=['name', 'turnout'],index=labels)\n",
        "presidents.head(20)\n",
        "\n",
        "# your code here."
      ]
    },
    {
      "cell_type": "markdown",
      "id": "f39b55d7",
      "metadata": {
        "id": "f39b55d7"
      },
      "source": [
        "##### Q10. Q9 에서 만든 DataFrame에 각 대통령의 재임 기간을 조사하여 'period'라는 column을 만들고, 'period'의 내림차순으로 DataFrame을 정렬하세요."
      ]
    },
    {
      "cell_type": "code",
      "execution_count": 3,
      "id": "57ff82a5",
      "metadata": {
        "id": "57ff82a5",
        "colab": {
          "base_uri": "https://localhost:8080/",
          "height": 426
        },
        "outputId": "2e578c19-283b-4357-b481-e1ddd25aa2d0"
      },
      "outputs": [
        {
          "output_type": "execute_result",
          "data": {
            "text/plain": [
              "  name  turnout  period\n",
              "다  박정희     46.6    5793\n",
              "가  이승만     91.8    4273\n",
              "마  전두환     99.4    2733\n",
              "바  노태우     36.6    1827\n",
              "차  이명박     48.7    1827\n",
              "타  문재인     41.1    1827\n",
              "사  김영삼     42.0    1826\n",
              "자  노무현     48.9    1826\n",
              "아  김대중     40.3    1825\n",
              "카  박근혜     51.6    1474\n",
              "나  윤보선     79.1     588\n",
              "라  최규하     96.3     255"
            ],
            "text/html": [
              "\n",
              "  <div id=\"df-1a5fb60b-6f0c-4112-976c-dc58fddafde3\">\n",
              "    <div class=\"colab-df-container\">\n",
              "      <div>\n",
              "<style scoped>\n",
              "    .dataframe tbody tr th:only-of-type {\n",
              "        vertical-align: middle;\n",
              "    }\n",
              "\n",
              "    .dataframe tbody tr th {\n",
              "        vertical-align: top;\n",
              "    }\n",
              "\n",
              "    .dataframe thead th {\n",
              "        text-align: right;\n",
              "    }\n",
              "</style>\n",
              "<table border=\"1\" class=\"dataframe\">\n",
              "  <thead>\n",
              "    <tr style=\"text-align: right;\">\n",
              "      <th></th>\n",
              "      <th>name</th>\n",
              "      <th>turnout</th>\n",
              "      <th>period</th>\n",
              "    </tr>\n",
              "  </thead>\n",
              "  <tbody>\n",
              "    <tr>\n",
              "      <th>다</th>\n",
              "      <td>박정희</td>\n",
              "      <td>46.6</td>\n",
              "      <td>5793</td>\n",
              "    </tr>\n",
              "    <tr>\n",
              "      <th>가</th>\n",
              "      <td>이승만</td>\n",
              "      <td>91.8</td>\n",
              "      <td>4273</td>\n",
              "    </tr>\n",
              "    <tr>\n",
              "      <th>마</th>\n",
              "      <td>전두환</td>\n",
              "      <td>99.4</td>\n",
              "      <td>2733</td>\n",
              "    </tr>\n",
              "    <tr>\n",
              "      <th>바</th>\n",
              "      <td>노태우</td>\n",
              "      <td>36.6</td>\n",
              "      <td>1827</td>\n",
              "    </tr>\n",
              "    <tr>\n",
              "      <th>차</th>\n",
              "      <td>이명박</td>\n",
              "      <td>48.7</td>\n",
              "      <td>1827</td>\n",
              "    </tr>\n",
              "    <tr>\n",
              "      <th>타</th>\n",
              "      <td>문재인</td>\n",
              "      <td>41.1</td>\n",
              "      <td>1827</td>\n",
              "    </tr>\n",
              "    <tr>\n",
              "      <th>사</th>\n",
              "      <td>김영삼</td>\n",
              "      <td>42.0</td>\n",
              "      <td>1826</td>\n",
              "    </tr>\n",
              "    <tr>\n",
              "      <th>자</th>\n",
              "      <td>노무현</td>\n",
              "      <td>48.9</td>\n",
              "      <td>1826</td>\n",
              "    </tr>\n",
              "    <tr>\n",
              "      <th>아</th>\n",
              "      <td>김대중</td>\n",
              "      <td>40.3</td>\n",
              "      <td>1825</td>\n",
              "    </tr>\n",
              "    <tr>\n",
              "      <th>카</th>\n",
              "      <td>박근혜</td>\n",
              "      <td>51.6</td>\n",
              "      <td>1474</td>\n",
              "    </tr>\n",
              "    <tr>\n",
              "      <th>나</th>\n",
              "      <td>윤보선</td>\n",
              "      <td>79.1</td>\n",
              "      <td>588</td>\n",
              "    </tr>\n",
              "    <tr>\n",
              "      <th>라</th>\n",
              "      <td>최규하</td>\n",
              "      <td>96.3</td>\n",
              "      <td>255</td>\n",
              "    </tr>\n",
              "  </tbody>\n",
              "</table>\n",
              "</div>\n",
              "      <button class=\"colab-df-convert\" onclick=\"convertToInteractive('df-1a5fb60b-6f0c-4112-976c-dc58fddafde3')\"\n",
              "              title=\"Convert this dataframe to an interactive table.\"\n",
              "              style=\"display:none;\">\n",
              "        \n",
              "  <svg xmlns=\"http://www.w3.org/2000/svg\" height=\"24px\"viewBox=\"0 0 24 24\"\n",
              "       width=\"24px\">\n",
              "    <path d=\"M0 0h24v24H0V0z\" fill=\"none\"/>\n",
              "    <path d=\"M18.56 5.44l.94 2.06.94-2.06 2.06-.94-2.06-.94-.94-2.06-.94 2.06-2.06.94zm-11 1L8.5 8.5l.94-2.06 2.06-.94-2.06-.94L8.5 2.5l-.94 2.06-2.06.94zm10 10l.94 2.06.94-2.06 2.06-.94-2.06-.94-.94-2.06-.94 2.06-2.06.94z\"/><path d=\"M17.41 7.96l-1.37-1.37c-.4-.4-.92-.59-1.43-.59-.52 0-1.04.2-1.43.59L10.3 9.45l-7.72 7.72c-.78.78-.78 2.05 0 2.83L4 21.41c.39.39.9.59 1.41.59.51 0 1.02-.2 1.41-.59l7.78-7.78 2.81-2.81c.8-.78.8-2.07 0-2.86zM5.41 20L4 18.59l7.72-7.72 1.47 1.35L5.41 20z\"/>\n",
              "  </svg>\n",
              "      </button>\n",
              "      \n",
              "  <style>\n",
              "    .colab-df-container {\n",
              "      display:flex;\n",
              "      flex-wrap:wrap;\n",
              "      gap: 12px;\n",
              "    }\n",
              "\n",
              "    .colab-df-convert {\n",
              "      background-color: #E8F0FE;\n",
              "      border: none;\n",
              "      border-radius: 50%;\n",
              "      cursor: pointer;\n",
              "      display: none;\n",
              "      fill: #1967D2;\n",
              "      height: 32px;\n",
              "      padding: 0 0 0 0;\n",
              "      width: 32px;\n",
              "    }\n",
              "\n",
              "    .colab-df-convert:hover {\n",
              "      background-color: #E2EBFA;\n",
              "      box-shadow: 0px 1px 2px rgba(60, 64, 67, 0.3), 0px 1px 3px 1px rgba(60, 64, 67, 0.15);\n",
              "      fill: #174EA6;\n",
              "    }\n",
              "\n",
              "    [theme=dark] .colab-df-convert {\n",
              "      background-color: #3B4455;\n",
              "      fill: #D2E3FC;\n",
              "    }\n",
              "\n",
              "    [theme=dark] .colab-df-convert:hover {\n",
              "      background-color: #434B5C;\n",
              "      box-shadow: 0px 1px 3px 1px rgba(0, 0, 0, 0.15);\n",
              "      filter: drop-shadow(0px 1px 2px rgba(0, 0, 0, 0.3));\n",
              "      fill: #FFFFFF;\n",
              "    }\n",
              "  </style>\n",
              "\n",
              "      <script>\n",
              "        const buttonEl =\n",
              "          document.querySelector('#df-1a5fb60b-6f0c-4112-976c-dc58fddafde3 button.colab-df-convert');\n",
              "        buttonEl.style.display =\n",
              "          google.colab.kernel.accessAllowed ? 'block' : 'none';\n",
              "\n",
              "        async function convertToInteractive(key) {\n",
              "          const element = document.querySelector('#df-1a5fb60b-6f0c-4112-976c-dc58fddafde3');\n",
              "          const dataTable =\n",
              "            await google.colab.kernel.invokeFunction('convertToInteractive',\n",
              "                                                     [key], {});\n",
              "          if (!dataTable) return;\n",
              "\n",
              "          const docLinkHtml = 'Like what you see? Visit the ' +\n",
              "            '<a target=\"_blank\" href=https://colab.research.google.com/notebooks/data_table.ipynb>data table notebook</a>'\n",
              "            + ' to learn more about interactive tables.';\n",
              "          element.innerHTML = '';\n",
              "          dataTable['output_type'] = 'display_data';\n",
              "          await google.colab.output.renderOutput(dataTable, element);\n",
              "          const docLink = document.createElement('div');\n",
              "          docLink.innerHTML = docLinkHtml;\n",
              "          element.appendChild(docLink);\n",
              "        }\n",
              "      </script>\n",
              "    </div>\n",
              "  </div>\n",
              "  "
            ]
          },
          "metadata": {},
          "execution_count": 3
        }
      ],
      "source": [
        "# your code here.\n",
        "\n",
        "presidents.loc[:,'period'] = [4273, 588, 5793, 255, 2733, 1827, 1826, 1825, 1826, 1827, 1474,1827]\n",
        "presidents = presidents.sort_values('period', ascending=False)\n",
        "presidents.head(20)"
      ]
    }
  ],
  "metadata": {
    "kernelspec": {
      "display_name": "Python 3 (ipykernel)",
      "language": "python",
      "name": "python3"
    },
    "language_info": {
      "codemirror_mode": {
        "name": "ipython",
        "version": 3
      },
      "file_extension": ".py",
      "mimetype": "text/x-python",
      "name": "python",
      "nbconvert_exporter": "python",
      "pygments_lexer": "ipython3",
      "version": "3.7.11"
    },
    "colab": {
      "name": "Homework#1.ipynb",
      "provenance": [],
      "collapsed_sections": []
    }
  },
  "nbformat": 4,
  "nbformat_minor": 5
}