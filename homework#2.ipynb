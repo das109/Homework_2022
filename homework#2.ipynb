{
 "cells": [
  {
   "cell_type": "markdown",
   "id": "1e72f84a",
   "metadata": {},
   "source": [
    "# 이름: \n",
    "# 학번: "
   ]
  },
  {
   "cell_type": "markdown",
   "id": "4f059e30",
   "metadata": {},
   "source": [
    "### Q1. 다음 조선왕조실록 사이트에서 재위기간이 가장 짧은 인종의 기사를 크롤링하여 1) URL 주소, 2) 기사 제목, 3) 한글 내용을 포함하는 코드를 작성 하세요. [조선왕조실록 바로가기](http://sillok.history.go.kr/main/main.do) <br><br> 예상되는 output은 다음과 같습니다.\n",
    "```[{\"url\": \"http://sillok.history.go.kr/id/kla_10101001_001\", \"title\":\"삭전을 지내고 상식을 올리다\", \"content\": \"상(上)이 삭전(朔奠)을 지내고...\" }, {\"url\":\"...\", \"title\":\"...\", \"content\":\"...\"}, ...]```"
   ]
  },
  {
   "cell_type": "code",
   "execution_count": null,
   "id": "69ffb4bf",
   "metadata": {},
   "outputs": [],
   "source": [
    "# your code here"
   ]
  },
  {
   "cell_type": "markdown",
   "id": "cd2d8de7",
   "metadata": {},
   "source": [
    "### Q2. Q1에서 만든 csv파일을 불러와서 DataFrame을 생성하고, content 칼럼에서 괄호와 한문을 모두 제거하여 content 칼럼에 다시 저장하세요.\n",
    "hint: 괄호와 괄호 안 문자를 제거하는 정규표현식 ```\"\\(.* \\)\" ```"
   ]
  },
  {
   "cell_type": "code",
   "execution_count": 15,
   "id": "ab8d680a",
   "metadata": {},
   "outputs": [],
   "source": [
    "# your code here"
   ]
  },
  {
   "cell_type": "markdown",
   "id": "19556415",
   "metadata": {},
   "source": [
    "### Q3. Q2에서 만든 list of dictionaries을 pandas DataFrame으로 바꾸어 csv 파일로 저장하는 코드를 작성하세요."
   ]
  },
  {
   "cell_type": "code",
   "execution_count": null,
   "id": "1ce50191",
   "metadata": {},
   "outputs": [],
   "source": [
    "# your code here"
   ]
  }
 ],
 "metadata": {
  "kernelspec": {
   "display_name": "Python 3 (ipykernel)",
   "language": "python",
   "name": "python3"
  },
  "language_info": {
   "codemirror_mode": {
    "name": "ipython",
    "version": 3
   },
   "file_extension": ".py",
   "mimetype": "text/x-python",
   "name": "python",
   "nbconvert_exporter": "python",
   "pygments_lexer": "ipython3",
   "version": "3.7.11"
  }
 },
 "nbformat": 4,
 "nbformat_minor": 5
}
